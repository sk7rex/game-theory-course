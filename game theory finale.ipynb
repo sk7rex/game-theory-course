{
 "cells": [
  {
   "cell_type": "markdown",
   "id": "aab1b89d-e452-4fb9-a4a8-7305f6fd8954",
   "metadata": {},
   "source": [
    "# Game theory: Finale"
   ]
  },
  {
   "cell_type": "code",
   "execution_count": 297,
   "id": "8c74ae8b",
   "metadata": {},
   "outputs": [],
   "source": [
    "import numpy as np\n",
    "import matplotlib.pyplot as plt\n",
    "import copy\n",
    "import math\n",
    "from cmaes import CMA\n",
    "%matplotlib inline"
   ]
  },
  {
   "cell_type": "markdown",
   "id": "5b123351",
   "metadata": {},
   "source": [
    "## Simplex method implementation"
   ]
  },
  {
   "cell_type": "code",
   "execution_count": 298,
   "id": "e7466fb5-f3e5-41c2-981b-210c3885587c",
   "metadata": {},
   "outputs": [],
   "source": [
    "def recognition(constraints: list):\n",
    "    contradictions = []\n",
    "    for i in range(len(constraints)):\n",
    "        if (constraints[i][-1] == \"<=\" and constraints[i][-2] < 0) or (\n",
    "                constraints[i][-1] == \">=\" and constraints[i][-2] > 0):\n",
    "            return True\n",
    "    return False"
   ]
  },
  {
   "cell_type": "code",
   "execution_count": 299,
   "id": "9b5305e8-7665-4a01-80b9-aceefd243ad0",
   "metadata": {},
   "outputs": [],
   "source": [
    "def get_table_single_phase(constraints: list, b: np.array):\n",
    "    col_num = len(constraints) + len(b) + 1\n",
    "    row_num = 1 + len(constraints)\n",
    "    table = np.zeros((row_num, col_num))\n",
    "\n",
    "    row_to_name = {}\n",
    "    col_to_name = {}\n",
    "    name_to_value = {}\n",
    "    \n",
    "    for k in range(len(constraints)):\n",
    "        col_to_name[k] = \"l\" + str(k)\n",
    "    \n",
    "    for k in range(len(constraints), col_num - 1):\n",
    "        col_to_name[k] = \"x\" + str(k - len(constraints))\n",
    "    \n",
    "    for k in range(len(constraints)):\n",
    "        row_to_name[k] = \"l\" + str(k) \n",
    "\n",
    "    for k in range(len(constraints)):\n",
    "        if constraints[k][-1] == \"<=\" or constraints[k][-1] == \"=\":\n",
    "            name_to_value[\"l\" + str(k)] = constraints[k][-2]\n",
    "        else:\n",
    "            name_to_value[\"l\" + str(k)] = -constraints[k][-2]\n",
    "\n",
    "    for k in range(len(b)):\n",
    "        name_to_value[\"x\" + str(k)] = 0\n",
    "\n",
    "    for i in range(len(constraints)):\n",
    "        table[i][i] = 1\n",
    "\n",
    "    for j in range(len(constraints), col_num - 1):\n",
    "        for i in range(row_num - 1):\n",
    "            table[i][j] = constraints[i][j - len(constraints)]\n",
    "\n",
    "    for i in range(row_num - 1):\n",
    "        table[i][-1] = name_to_value[\"l\" + str(i)]\n",
    "\n",
    "    table[row_num - 1][-1] = 0\n",
    "\n",
    "    new_b = np.zeros(col_num - 1)\n",
    "    for k in range(len(constraints), len(b) + len(constraints)):\n",
    "        new_b[k] = b[k - len(constraints)]\n",
    "\n",
    "    for j in range(len(constraints), col_num - 1):\n",
    "        table[-1][j] = np.dot(table.T[j][:-1], new_b[:len(constraints)]) - new_b[j]\n",
    "\n",
    "    return table, name_to_value, row_to_name, col_to_name"
   ]
  },
  {
   "cell_type": "code",
   "execution_count": 300,
   "id": "25304950-28a2-4cd6-9f34-3415a18510e0",
   "metadata": {},
   "outputs": [],
   "source": [
    "def get_r_and_constraints(constraints_old, b_old):\n",
    "    constraints = copy.deepcopy(constraints_old)\n",
    "    for i in range(len(constraints_old)):\n",
    "        for k in range(len(constraints_old)):\n",
    "            constraints[i].append(0)\n",
    "        constraints[i][len(constraints_old)], constraints[i][-1] = constraints[i][-1], constraints[i][\n",
    "            len(constraints_old)]\n",
    "        constraints[i][len(constraints_old) - 1], constraints[i][-2] = constraints[i][-2], constraints[i][\n",
    "            len(constraints_old) - 1]\n",
    "\n",
    "        constraints[i][i + len(constraints_old) - 1] = (-1 if constraints_old[i][-1] == \">=\" else 1)\n",
    "\n",
    "    b = [0] * (len(constraints[0]) - 2)\n",
    "    for j in range(len(constraints[0]) - 2):\n",
    "        for i in range(len(constraints)):\n",
    "            b[j] -= constraints[i][j]\n",
    "    return constraints, b"
   ]
  },
  {
   "cell_type": "code",
   "execution_count": 301,
   "id": "7b88ac7e-3e50-4fcd-91c6-c5f406025c00",
   "metadata": {},
   "outputs": [],
   "source": [
    "def get_table_two_phase(constraints: list, b: np.array):\n",
    "    col_num = 2 * len(constraints) + len(b) + 1\n",
    "    row_num = 2 + len(constraints)\n",
    "    table = np.zeros((row_num, col_num))\n",
    "\n",
    "    row_to_name = {}\n",
    "    col_to_name = {}\n",
    "    name_to_value = {}\n",
    "    \n",
    "    for k in range(len(constraints)):\n",
    "        col_to_name[k] = \"l\" + str(k)\n",
    "    \n",
    "    for k in range(len(constraints), 2 * len(constraints)):\n",
    "        col_to_name[k] = \"r\" + str(k - len(constraints))\n",
    "\n",
    "    for k in range(2 * len(constraints), col_num):\n",
    "        col_to_name[k] = \"x\" + str(k - 2 * len(constraints))\n",
    "    \n",
    "    for k in range(len(constraints)):\n",
    "        row_to_name[k] = \"r\" + str(k) \n",
    "\n",
    "    for k in range(len(constraints)):\n",
    "        name_to_value[\"r\" + str(k)] = constraints[k][-2]\n",
    "        name_to_value[\"l\" + str(k)] = 0\n",
    "\n",
    "    for k in range(len(b)):\n",
    "        name_to_value[\"x\" + str(k)] = 0\n",
    "\n",
    "    for i in range(len(constraints), 2 * len(constraints)): # заполняем t_ij для r_k\n",
    "        table[i - len(constraints)][i] = 1\n",
    "\n",
    "    for j in range(len(constraints)): # заполняем t_ij для l_k\n",
    "        if constraints[j][-1] == \"<=\" or constraints[j][-1] == \"=\":\n",
    "            table[j][j] = 1\n",
    "        else:\n",
    "            table[j][j] = -1\n",
    "\n",
    "    for j in range(2 * len(constraints), col_num - 1): # заполняем t_ij для x_k\n",
    "        for i in range(row_num - 2):\n",
    "            table[i][j] = constraints[i][j - 2 * len(constraints)]\n",
    "\n",
    "    for i in range(row_num - 2):\n",
    "        table[i][-1] = name_to_value[\"r\" + str(i)]\n",
    "\n",
    "    for j in range(2 * len(constraints), col_num - 1): # заполняем предпоследнюю строку для x_k\n",
    "        table[-2][j] = -b[j - 2 * len(constraints)]\n",
    "\n",
    "    table[-2][-1] = 0\n",
    "\n",
    "    for j in range(len(constraints)): # заполняем последнюю строку для l_k\n",
    "        if constraints[j][-1] == \"<=\" or constraints[i][-1] == \"=\":\n",
    "            table[-1][j] = 1\n",
    "        else:\n",
    "            table[-1][j] = -1\n",
    "\n",
    "    for j in range(2 * len(constraints), col_num - 1): # заполняем последнюю строку для x_k\n",
    "        sum_ = sum([float(x) for x in np.array(constraints).T[:][j - 2 * len(constraints)]])\n",
    "        table[-1][j] = sum_\n",
    "\n",
    "    table[-1][-1] = sum([name_to_value[\"r\" + str(k)] for k in range(len(constraints))])\n",
    "\n",
    "    return table, name_to_value, row_to_name, col_to_name"
   ]
  },
  {
   "cell_type": "code",
   "execution_count": 302,
   "id": "5d776135-08d9-4e1f-b8ac-b99b1c442929",
   "metadata": {},
   "outputs": [],
   "source": [
    "def delete_col(table, col_to_name: dict, i: int):\n",
    "    table = np.delete(table, i, axis=1)\n",
    "    for j in range(i + 1, len(col_to_name)):\n",
    "        col_to_name[j - 1] = col_to_name[j]\n",
    "    col_to_name.pop(len(col_to_name) - 1)\n",
    "    return table, col_to_name"
   ]
  },
  {
   "cell_type": "code",
   "execution_count": 303,
   "id": "c69306c2-a6a1-410a-9e16-59afbad47b35",
   "metadata": {},
   "outputs": [],
   "source": [
    "def trim_table(table, name_to_value: dict, row_to_name: dict, col_to_name: dict):\n",
    "    to_del = []\n",
    "    for i in col_to_name:\n",
    "        if col_to_name[i][0] == \"r\":\n",
    "            to_del.append(i)\n",
    "        if i < len(table) - 2:\n",
    "           name_to_value.pop(\"r\" + str(i))\n",
    "\n",
    "    for i in range(len(to_del)):\n",
    "        table, col_to_name = delete_col(table, col_to_name, to_del[i] - i)\n",
    "    table = np.delete(table, len(table) - 1, axis=0)\n",
    "    return table, name_to_value, row_to_name, col_to_name"
   ]
  },
  {
   "cell_type": "code",
   "execution_count": 304,
   "id": "41f08c2f",
   "metadata": {},
   "outputs": [],
   "source": [
    "def can_be_improved(table):\n",
    "    return any(x > 0 for x in table[-1][:-1])"
   ]
  },
  {
   "cell_type": "code",
   "execution_count": 305,
   "id": "ddd7d3de-1f57-498c-abbe-4ecdc60d2837",
   "metadata": {},
   "outputs": [],
   "source": [
    "def get_pivot_position_single_phase(table):\n",
    "    col_num = len(table[0])\n",
    "    row_num = len(table)\n",
    "    \n",
    "    min_divided = float('inf')\n",
    "    min_index = (-1, -1)\n",
    "    \n",
    "    for j in range(col_num - 1):\n",
    "        if table[-1][j] > 0:\n",
    "            for i in range(row_num - 1):\n",
    "                if table[i][j] > 0:\n",
    "                    cur_divided = table[i][-1] / table[i][j]\n",
    "                    if cur_divided < min_divided:\n",
    "                        min_index = (i, j)\n",
    "                        min_divided = cur_divided\n",
    "            \n",
    "    \n",
    "    return min_index # returns (-1, -1) if all table[i][j] < 0            \n",
    "            "
   ]
  },
  {
   "cell_type": "code",
   "execution_count": 306,
   "id": "0be9077e-1167-4b08-95cd-734dd173c899",
   "metadata": {},
   "outputs": [],
   "source": [
    "def get_pivot_position_two_phase(table):\n",
    "    col_num = len(table[0])\n",
    "    row_num = len(table)\n",
    "\n",
    "    min_divided = float('inf')\n",
    "    min_index = (-1, -1)\n",
    "\n",
    "    for j in range(col_num - 1):\n",
    "        if table[-1][j] > 0:\n",
    "            for i in range(row_num - 2):\n",
    "                if table[i][j] > 0:\n",
    "                    cur_divided = table[i][-1] / table[i][j]\n",
    "                    if cur_divided < min_divided:\n",
    "                        min_index = (i, j)\n",
    "                        min_divided = cur_divided\n",
    "\n",
    "    return min_index  # returns (-1, -1) if all table[i][j] < 0"
   ]
  },
  {
   "cell_type": "code",
   "execution_count": 307,
   "id": "7d8facd1-13ff-42c5-987a-73b6949737ba",
   "metadata": {},
   "outputs": [],
   "source": [
    "def simplex_step_single_phase(table, row_to_name: dict, col_to_name: dict, name_to_value: dict):\n",
    "    col_num = len(table[0])\n",
    "    row_num = len(table)\n",
    "    \n",
    "    i, j = get_pivot_position_single_phase(table)\n",
    "    if (i, j) == (-1, -1):\n",
    "        return None\n",
    "    row = table[i] / table[i][j]\n",
    "\n",
    "    for k in range(row_num - 1):\n",
    "        if k == i:\n",
    "            continue\n",
    "        table[k] -= table[k][j] * row\n",
    "        name_to_value[row_to_name[k]] = table[k][-1]\n",
    "\n",
    "    table[i] /= table[i][j]\n",
    "    name_to_value[row_to_name[i]] = table[i][-1]\n",
    "\n",
    "    table[-1] -= table[-1][j] * row\n",
    "    \n",
    "    # print(\"col_to_name \", col_to_name)\n",
    "    # print(\"row_to_name \", row_to_name)\n",
    "        \n",
    "    v1 = name_to_value.get(row_to_name.get(i))\n",
    "    v2 = name_to_value.get(col_to_name.get(j))\n",
    "    name_to_value[row_to_name[i]] = v2\n",
    "    name_to_value[col_to_name[j]] = v1\n",
    "    \n",
    "    \n",
    "    v3 = row_to_name.get(i)\n",
    "    v4 = col_to_name.get(j)\n",
    "    row_to_name[i] = v4\n",
    "    col_to_name[j] = v3\n",
    "\n",
    "    return row_to_name, col_to_name, name_to_value\n",
    "    "
   ]
  },
  {
   "cell_type": "code",
   "execution_count": 308,
   "id": "a2ef6ee9-c76f-4e82-963e-75d957792de8",
   "metadata": {},
   "outputs": [],
   "source": [
    "def simplex_step_two_phase(table, row_to_name: dict, col_to_name: dict, name_to_value: dict):\n",
    "    col_num = len(table[0])\n",
    "    row_num = len(table)\n",
    "\n",
    "    i, j = get_pivot_position_two_phase(table)\n",
    "    if (i, j) == (-1, -1):\n",
    "        return None\n",
    "\n",
    "    row = table[i] / table[i][j]\n",
    "\n",
    "    for k in range(row_num - 2):\n",
    "        if k == i:\n",
    "            continue\n",
    "        table[k] -= table[k][j] * row\n",
    "        name_to_value[row_to_name[k]] = table[k][-1]\n",
    "\n",
    "    table[i] /= table[i][j]\n",
    "    name_to_value[row_to_name[i]] = table[i][-1]\n",
    "    table[-2] -= table[-2][j] * row\n",
    "    table[-1] -= table[-1][j] * row\n",
    "\n",
    "    # print(\"col_to_name \", col_to_name)\n",
    "    # print(\"row_to_name \", row_to_name)\n",
    "\n",
    "    v1 = name_to_value[row_to_name[i]]\n",
    "    v2 = name_to_value[col_to_name[j]]\n",
    "    name_to_value[row_to_name[i]] = v2\n",
    "    name_to_value[col_to_name[j]] = v1\n",
    "\n",
    "\n",
    "    v4 = col_to_name[j]\n",
    "    row_to_name[i] = v4\n",
    "\n",
    "\n",
    "    return row_to_name, col_to_name, name_to_value"
   ]
  },
  {
   "cell_type": "code",
   "execution_count": 309,
   "id": "779ed65b",
   "metadata": {},
   "outputs": [],
   "source": [
    "def simplex_method(constraints: list, b: np.array):\n",
    "    zero_solution = not recognition(constraints)\n",
    "\n",
    "    if zero_solution:\n",
    "        table, name_to_value, row_to_name, col_to_name = get_table_single_phase(constraints, b)\n",
    "\n",
    "        while can_be_improved(table):\n",
    "            if simplex_step_single_phase(table, row_to_name, col_to_name, name_to_value) == None:\n",
    "                # print(\"there is no solution\")\n",
    "                return None, None, None, None\n",
    "    else:\n",
    "        table, name_to_value, row_to_name, col_to_name = get_table_two_phase(constraints, b)\n",
    "\n",
    "        while can_be_improved(table):\n",
    "            if simplex_step_two_phase(table, row_to_name, col_to_name, name_to_value) == None:\n",
    "                print(\"there is no solution because pivot index does not exist\")\n",
    "                return None, None, None, None\n",
    "\n",
    "        flag = True\n",
    "\n",
    "        if any(row_to_name[q][0] == \"r\" for q in range(len(constraints))):\n",
    "            print(\"there is no solution because some r_k are not zero\")\n",
    "            return None, None, None, None\n",
    "\n",
    "\n",
    "        if flag:\n",
    "            table, name_to_value, row_to_name, col_to_name = trim_table(table, name_to_value, row_to_name, col_to_name)\n",
    "\n",
    "            # print(\"all cool\")\n",
    "            while can_be_improved(table):\n",
    "                if simplex_step_single_phase(table, row_to_name, col_to_name, name_to_value) == None:\n",
    "                    print(\"there is no solution\")\n",
    "                    return None, None, None, None\n",
    "\n",
    "    return table, row_to_name, col_to_name, name_to_value"
   ]
  },
  {
   "cell_type": "code",
   "execution_count": 310,
   "id": "11c5c601-f100-49f4-aa35-125806cad515",
   "metadata": {},
   "outputs": [],
   "source": [
    "def optimize(constraints, b):\n",
    "    table, row_to_name, col_to_name, name_to_value = simplex_method(constraints, b)\n",
    "    x = []\n",
    "    if table is None:\n",
    "        return None\n",
    "    for i in range(len(b)):\n",
    "        x.append(name_to_value[\"x\" + str(i)])\n",
    "    return x"
   ]
  },
  {
   "cell_type": "markdown",
   "id": "1a6ad6bd",
   "metadata": {},
   "source": [
    "### Example 1"
   ]
  },
  {
   "cell_type": "code",
   "execution_count": 311,
   "id": "9719a1cf-b2e8-44ee-a8da-54b017e84f2e",
   "metadata": {},
   "outputs": [
    {
     "name": "stdout",
     "output_type": "stream",
     "text": [
      "[[ 1.  0.  0.  1.  1.  3.]\n",
      " [ 0.  1.  0.  1.  2.  5.]\n",
      " [ 0.  0.  1.  4.  2. 10.]\n",
      " [ 0.  0.  0.  2.  3.  0.]]\n"
     ]
    }
   ],
   "source": [
    "constraints = [[1, 1, 3, \"<=\"], \n",
    "               [1, 2, 5, \"<=\"],\n",
    "               [4, 2, 10, \"<=\"]]\n",
    "b = -np.array([2, 3])\n",
    "table, name_to_value, row_to_name, col_to_name = get_table_single_phase(constraints, b)\n",
    "\n",
    "print(table)"
   ]
  },
  {
   "cell_type": "code",
   "execution_count": 312,
   "id": "23ffe9b4-831c-4d61-97fd-1db2fd803970",
   "metadata": {},
   "outputs": [],
   "source": [
    "table, row_to_name, col_to_name, name_to_value = simplex_method(constraints, b)"
   ]
  },
  {
   "cell_type": "code",
   "execution_count": 313,
   "id": "ac894727-8926-4bc7-b366-c6e4aeec6a13",
   "metadata": {
    "scrolled": true
   },
   "outputs": [
    {
     "data": {
      "text/plain": [
       "array([[-1.,  1.,  0.,  0.,  1.,  2.],\n",
       "       [-6.,  2.,  1.,  0.,  0.,  2.],\n",
       "       [ 2., -1.,  0.,  1.,  0.,  1.],\n",
       "       [-1., -1.,  0.,  0.,  0., -8.]])"
      ]
     },
     "execution_count": 313,
     "metadata": {},
     "output_type": "execute_result"
    }
   ],
   "source": [
    "table"
   ]
  },
  {
   "cell_type": "code",
   "execution_count": 314,
   "id": "44d166e9-cb66-4194-b084-0a2476879748",
   "metadata": {},
   "outputs": [
    {
     "name": "stdout",
     "output_type": "stream",
     "text": [
      "[1.0, 2.0]\n"
     ]
    }
   ],
   "source": [
    "print(optimize(constraints, b))"
   ]
  },
  {
   "cell_type": "code",
   "execution_count": 315,
   "id": "210a291c-f324-4622-b215-054e3276760c",
   "metadata": {},
   "outputs": [
    {
     "data": {
      "text/plain": [
       "0.5"
      ]
     },
     "execution_count": 315,
     "metadata": {},
     "output_type": "execute_result"
    }
   ],
   "source": [
    "int(3) - float(2.5)"
   ]
  },
  {
   "cell_type": "markdown",
   "id": "57278c20-4514-48b6-bd53-400e659c9a74",
   "metadata": {},
   "source": [
    "### Example 2"
   ]
  },
  {
   "cell_type": "code",
   "execution_count": 316,
   "id": "6fd06b7c-84ea-4d76-be61-e62288b1281d",
   "metadata": {},
   "outputs": [
    {
     "data": {
      "text/plain": [
       "array([[1., 0., 1., 0., 1.],\n",
       "       [0., 1., 0., 1., 1.],\n",
       "       [0., 0., 1., 1., 0.]])"
      ]
     },
     "execution_count": 316,
     "metadata": {},
     "output_type": "execute_result"
    }
   ],
   "source": [
    "b = -np.array([1, 1])\n",
    "constraints = [[1, 0, 1, \"<=\"], [0, 1, 1, \"<=\"]]\n",
    "\n",
    "table, name_to_value, row_to_name, col_to_name = get_table_single_phase(constraints, b)\n",
    "table"
   ]
  },
  {
   "cell_type": "code",
   "execution_count": 317,
   "id": "4a4e308e-10ed-483f-8759-798c866ea14d",
   "metadata": {},
   "outputs": [],
   "source": [
    "table, row_to_name, col_to_name, name_to_value = simplex_method(constraints, b)"
   ]
  },
  {
   "cell_type": "code",
   "execution_count": 318,
   "id": "f19347b4-4115-4ce8-a86b-f45ad954decc",
   "metadata": {},
   "outputs": [
    {
     "data": {
      "text/plain": [
       "array([[ 1.,  0.,  1.,  0.,  1.],\n",
       "       [ 0.,  1.,  0.,  1.,  1.],\n",
       "       [-1., -1.,  0.,  0., -2.]])"
      ]
     },
     "execution_count": 318,
     "metadata": {},
     "output_type": "execute_result"
    }
   ],
   "source": [
    "table"
   ]
  },
  {
   "cell_type": "code",
   "execution_count": 319,
   "id": "5d1b1f5f-2011-41a0-8528-cd73d5e96896",
   "metadata": {
    "scrolled": true
   },
   "outputs": [
    {
     "data": {
      "text/plain": [
       "{'l0': 0, 'l1': 0, 'x0': 1.0, 'x1': 1.0}"
      ]
     },
     "execution_count": 319,
     "metadata": {},
     "output_type": "execute_result"
    }
   ],
   "source": [
    "name_to_value"
   ]
  },
  {
   "cell_type": "markdown",
   "id": "0c90e814-50ef-4431-b361-abf7c5b9176d",
   "metadata": {},
   "source": [
    "### Example 3"
   ]
  },
  {
   "cell_type": "code",
   "execution_count": 320,
   "id": "5d99ee8f-6798-4b6b-bdfc-469bc220dfd9",
   "metadata": {
    "scrolled": true
   },
   "outputs": [],
   "source": [
    "constraints = [[1, 1, 1, \">=\"],\n",
    "              [2, -1, 1, \">=\"],\n",
    "              [0, 3, 2, \"<=\"]]\n",
    "b = np.array([6, 3])\n",
    "table, name_to_value, row_to_name, col_to_name = get_table_two_phase(constraints, b)"
   ]
  },
  {
   "cell_type": "code",
   "execution_count": 321,
   "id": "697c21c8-f35e-41a3-b8e9-ea75b2892173",
   "metadata": {},
   "outputs": [
    {
     "data": {
      "text/plain": [
       "array([[-1.,  0.,  0.,  1.,  0.,  0.,  1.,  1.,  1.],\n",
       "       [ 0., -1.,  0.,  0.,  1.,  0.,  2., -1.,  1.],\n",
       "       [ 0.,  0.,  1.,  0.,  0.,  1.,  0.,  3.,  2.],\n",
       "       [ 0.,  0.,  0.,  0.,  0.,  0., -6., -3.,  0.],\n",
       "       [-1., -1.,  1.,  0.,  0.,  0.,  3.,  3.,  4.]])"
      ]
     },
     "execution_count": 321,
     "metadata": {},
     "output_type": "execute_result"
    }
   ],
   "source": [
    "table"
   ]
  },
  {
   "cell_type": "code",
   "execution_count": 322,
   "id": "cfc9b318-7ea4-4f7c-8222-8804cebaa5e3",
   "metadata": {},
   "outputs": [],
   "source": [
    "table, row_to_name, col_to_name, name_to_value = simplex_method(constraints, b)"
   ]
  },
  {
   "cell_type": "code",
   "execution_count": 323,
   "id": "3765c502-b936-4b6e-8a32-0abc7fa3e5cd",
   "metadata": {},
   "outputs": [
    {
     "data": {
      "text/plain": [
       "array([[-0.66666667,  0.33333333,  0.        ,  0.        ,  1.        ,\n",
       "         0.33333333],\n",
       "       [-0.33333333, -0.33333333,  0.        ,  1.        ,  0.        ,\n",
       "         0.66666667],\n",
       "       [ 2.        , -1.        ,  1.        ,  0.        ,  0.        ,\n",
       "         1.        ],\n",
       "       [-4.        , -1.        ,  0.        ,  0.        ,  0.        ,\n",
       "         5.        ]])"
      ]
     },
     "execution_count": 323,
     "metadata": {},
     "output_type": "execute_result"
    }
   ],
   "source": [
    "table"
   ]
  },
  {
   "cell_type": "code",
   "execution_count": 324,
   "id": "38118a20-f62d-4227-99fe-854abcd9b0e9",
   "metadata": {},
   "outputs": [
    {
     "data": {
      "text/plain": [
       "{'l0': 0,\n",
       " 'l1': 0,\n",
       " 'l2': 1.0,\n",
       " 'x0': 0.6666666666666666,\n",
       " 'x1': 0.3333333333333333}"
      ]
     },
     "execution_count": 324,
     "metadata": {},
     "output_type": "execute_result"
    }
   ],
   "source": [
    "name_to_value"
   ]
  },
  {
   "cell_type": "markdown",
   "id": "e7e7f02a-6f45-4620-b56e-15b909870b7c",
   "metadata": {},
   "source": [
    "### Example 4"
   ]
  },
  {
   "cell_type": "code",
   "execution_count": 325,
   "id": "8a6c3f73-5df5-486c-ac34-8d11630a0e76",
   "metadata": {},
   "outputs": [],
   "source": [
    "b = -np.array([5000, 2500])\n",
    "constraints = [[4, 1.5, 24, \"<=\"],\n",
    "              [1200, 150, 6000, \"<=\"],\n",
    "              [20, 20, 200, \"<=\"],\n",
    "              [1, 0, 2, \">=\"]]"
   ]
  },
  {
   "cell_type": "code",
   "execution_count": 326,
   "id": "759948da-729d-4060-80da-c46feb6efe56",
   "metadata": {},
   "outputs": [
    {
     "data": {
      "text/plain": [
       "array([[-4.0e-01,  0.0e+00,  8.0e-02,  0.0e+00,  0.0e+00,  1.0e+00,\n",
       "         6.4e+00],\n",
       "       [ 4.0e-01,  0.0e+00, -3.0e-02,  1.0e+00,  0.0e+00,  0.0e+00,\n",
       "         1.6e+00],\n",
       "       [-4.2e+02,  1.0e+00,  2.4e+01,  0.0e+00,  0.0e+00,  0.0e+00,\n",
       "         7.2e+02],\n",
       "       [ 4.0e-01,  0.0e+00, -3.0e-02,  0.0e+00,  1.0e+00,  0.0e+00,\n",
       "         3.6e+00],\n",
       "       [-1.0e+03,  0.0e+00, -5.0e+01,  0.0e+00,  0.0e+00,  0.0e+00,\n",
       "        -3.4e+04]])"
      ]
     },
     "execution_count": 326,
     "metadata": {},
     "output_type": "execute_result"
    }
   ],
   "source": [
    "table, row_to_name, col_to_name, name_to_value = simplex_method(constraints, b)\n",
    "table"
   ]
  },
  {
   "cell_type": "code",
   "execution_count": 327,
   "id": "cd2c02d8-fa74-4743-9169-2811d3608cfb",
   "metadata": {},
   "outputs": [
    {
     "data": {
      "text/plain": [
       "{'l0': 0, 'l1': 719.9999999999999, 'l2': 0, 'l3': 1.6, 'x0': 3.6, 'x1': 6.4}"
      ]
     },
     "execution_count": 327,
     "metadata": {},
     "output_type": "execute_result"
    }
   ],
   "source": [
    "name_to_value"
   ]
  },
  {
   "cell_type": "markdown",
   "id": "a8186c4b-a5c8-457c-a149-b5524a27ac01",
   "metadata": {},
   "source": [
    "### Example 5"
   ]
  },
  {
   "cell_type": "code",
   "execution_count": 328,
   "id": "17cc0a1d-e95e-49fd-bd54-9e24ceb2c77c",
   "metadata": {},
   "outputs": [],
   "source": [
    "b = -np.array([2, 5])\n",
    "constraints = [[3, 2, 6, \">=\"],\n",
    "              [1, 2, 4, \"<=\"]]"
   ]
  },
  {
   "cell_type": "code",
   "execution_count": 329,
   "id": "9c9aadfa-cd03-4227-a2e4-188ea86b7033",
   "metadata": {},
   "outputs": [
    {
     "data": {
      "text/plain": [
       "array([[-0.5 , -0.5 ,  1.  ,  0.  ,  1.  ],\n",
       "       [ 0.25,  0.75,  0.  ,  1.  ,  1.5 ],\n",
       "       [-0.25, -2.75,  0.  ,  0.  , -9.5 ]])"
      ]
     },
     "execution_count": 329,
     "metadata": {},
     "output_type": "execute_result"
    }
   ],
   "source": [
    "table, row_to_name, col_to_name, name_to_value = simplex_method(constraints, b)\n",
    "table"
   ]
  },
  {
   "cell_type": "code",
   "execution_count": 330,
   "id": "10f07ce2-13ea-4843-8424-332c68127519",
   "metadata": {},
   "outputs": [
    {
     "data": {
      "text/plain": [
       "{'l0': 0, 'l1': 0, 'x0': 1.0000000000000002, 'x1': 1.4999999999999998}"
      ]
     },
     "execution_count": 330,
     "metadata": {},
     "output_type": "execute_result"
    }
   ],
   "source": [
    "name_to_value"
   ]
  },
  {
   "cell_type": "markdown",
   "id": "74f228ec-12ae-4f3a-9d9c-28ff37b37dbb",
   "metadata": {},
   "source": [
    "### Example 6"
   ]
  },
  {
   "cell_type": "code",
   "execution_count": 331,
   "id": "688dc589-d852-4fe8-b705-f84d5f694ece",
   "metadata": {},
   "outputs": [],
   "source": [
    "b = -np.array([3, 4])\n",
    "constraints = [[1, 0, 6, \"=\"],\n",
    "              [0, 1, 6, \"<=\"]]"
   ]
  },
  {
   "cell_type": "code",
   "execution_count": 332,
   "id": "5519bc04-1240-4bd8-a06f-871824de86d4",
   "metadata": {},
   "outputs": [
    {
     "data": {
      "text/plain": [
       "array([[  1.,   0.,   1.,   0.,   6.],\n",
       "       [  0.,   1.,   0.,   1.,   6.],\n",
       "       [ -3.,  -4.,   0.,   0., -42.]])"
      ]
     },
     "execution_count": 332,
     "metadata": {},
     "output_type": "execute_result"
    }
   ],
   "source": [
    "table, row_to_name, col_to_name, name_to_value = simplex_method(constraints, b)\n",
    "table"
   ]
  },
  {
   "cell_type": "code",
   "execution_count": 333,
   "id": "d087da6a-3fc8-4ab2-bdf3-501b3cf10349",
   "metadata": {
    "scrolled": true
   },
   "outputs": [
    {
     "data": {
      "text/plain": [
       "{'l0': 0, 'l1': 0, 'x0': 6.0, 'x1': 6.0}"
      ]
     },
     "execution_count": 333,
     "metadata": {},
     "output_type": "execute_result"
    }
   ],
   "source": [
    "name_to_value"
   ]
  },
  {
   "cell_type": "markdown",
   "id": "3586ce1f-0259-4529-a4a4-5fbe05d8f37e",
   "metadata": {},
   "source": [
    "## Mixed-integer linear programming"
   ]
  },
  {
   "cell_type": "code",
   "execution_count": 334,
   "id": "f588f80e-8ef0-41ae-be17-0801a065905e",
   "metadata": {},
   "outputs": [],
   "source": [
    "def func(b, x):\n",
    "    if x is None:\n",
    "        return math.inf\n",
    "    s = 0\n",
    "    for i in range(len(b)):\n",
    "        s += b[i] * x[i]\n",
    "    return s"
   ]
  },
  {
   "cell_type": "code",
   "execution_count": 335,
   "id": "5a859034-908c-45d7-aa41-7fc4fdad4e30",
   "metadata": {},
   "outputs": [],
   "source": [
    "def milp(integer_vars, constraints, b):\n",
    "    \"\"\"Mixed-integer linear programming problem solution using Branch and Bound and Simplex methods\"\"\"\n",
    "    \n",
    "    x = optimize(constraints, b)\n",
    "    non_integer_vars = [] # list to store indices of non-integer x_k\n",
    "    \n",
    "    if x is None: # if simplex method didn't find solution then there is no mixed-integer solution\n",
    "        return None\n",
    "\n",
    "    for i in integer_vars:\n",
    "        if (abs(x[i] - round(x[i])) > 1e-6): # check if x_i is integer\n",
    "            non_integer_vars.append(i) \n",
    "            \n",
    "    if len(non_integer_vars) == 0: # self-explanatory \n",
    "        return x\n",
    "        \n",
    "    x1 = int(x[non_integer_vars[0]]) # compute floor of non-integer x\n",
    "\n",
    "    # create lists for the purpose of branching the feasible region\n",
    "    left_constraint = [0] * (len(constraints[0]) - 1)\n",
    "    right_constraint = [0] * (len(constraints[0]) - 1)\n",
    "    \n",
    "    left_constraint[non_integer_vars[0]] = 1\n",
    "    right_constraint[non_integer_vars[0]] = 1\n",
    "    left_constraint[-1] = x1\n",
    "    right_constraint[-1] = x1 + 1\n",
    "    left_constraint.append(\"<=\")\n",
    "    right_constraint.append(\">=\")\n",
    "    \n",
    "    constraints.append(left_constraint)\n",
    "    opt1 = milp(integer_vars, constraints, b)\n",
    "    constraints.pop(-1)\n",
    "    \n",
    "    constraints.append(right_constraint)\n",
    "    opt2 = milp(integer_vars, constraints, b)\n",
    "    constraints.pop(-1)\n",
    "    \n",
    "    if opt1 is None and opt2 is None:\n",
    "        return None\n",
    "    if (func(b, opt1) < func(b, opt2)):\n",
    "        return opt1\n",
    "        \n",
    "    return opt2"
   ]
  },
  {
   "cell_type": "markdown",
   "id": "9c13333f-fd57-44cf-be99-3c88c281a4ef",
   "metadata": {},
   "source": [
    "### Example 1"
   ]
  },
  {
   "cell_type": "code",
   "execution_count": 336,
   "id": "5c1d591b-f43e-46e2-8d13-bd2d8d88971a",
   "metadata": {},
   "outputs": [],
   "source": [
    "b = -np.array([0, 1])\n",
    "constraints = [[-1, 1, 1, \"<=\"],\n",
    "              [3, 2, 12, \"<=\"],\n",
    "              [2, 3, 12, \"<=\"]]\n",
    "integer_vars = [0, 1]"
   ]
  },
  {
   "cell_type": "code",
   "execution_count": 337,
   "id": "14555692-6e44-4506-b583-aa52174741e0",
   "metadata": {
    "scrolled": true
   },
   "outputs": [
    {
     "name": "stdout",
     "output_type": "stream",
     "text": [
      "there is no solution because some r_k are not zero\n",
      "[2.0, 2.0]\n"
     ]
    }
   ],
   "source": [
    "print(milp(integer_vars, constraints, b))"
   ]
  },
  {
   "cell_type": "markdown",
   "id": "df39727f-37d4-4281-b83f-60625056ac1e",
   "metadata": {},
   "source": [
    "### Parser of .mps files"
   ]
  },
  {
   "cell_type": "code",
   "execution_count": 398,
   "id": "0fc80be0",
   "metadata": {},
   "outputs": [],
   "source": [
    "from mip import Model\n",
    "from scipy.sparse import csr_matrix"
   ]
  },
  {
   "cell_type": "code",
   "execution_count": 396,
   "id": "790bf653-dfe6-4dfc-a09a-a22f1ce7cdfd",
   "metadata": {},
   "outputs": [],
   "source": [
    "def read_mps(file: str):\n",
    "    \"\"\"\n",
    "    Reads a .mps and saves all the data of the MILP:\n",
    "\n",
    "    min c^T * x\n",
    "\n",
    "    s.t. b_l <= A*x <= b_u\n",
    "          lb <=   x <= ub\n",
    "                x_i integer if integrality[i] = 1\n",
    "    \"\"\"\n",
    "    mdl = Model(solver_name=\"CBC\")\n",
    "    mdl.read(file)\n",
    "\n",
    "    # model parameters\n",
    "    num_vars = len(mdl.vars)\n",
    "    num_cons = len(mdl.constrs)\n",
    "\n",
    "    # variable types and bounds\n",
    "    lb = np.zeros(num_vars)\n",
    "    ub = np.inf * np.ones(num_vars)\n",
    "    integrality = np.zeros(num_vars)\n",
    "    for i, var in enumerate(mdl.vars):\n",
    "        lb[i] = var.lb\n",
    "        ub[i] = var.ub\n",
    "        if var.var_type != \"C\":\n",
    "            integrality[i] = 1\n",
    "\n",
    "    # objective\n",
    "    c = np.zeros(num_vars)\n",
    "    for i, var in enumerate(mdl.vars):\n",
    "        if var in mdl.objective.expr:\n",
    "            c[i] = mdl.objective.expr[var]\n",
    "    if mdl.sense != \"MIN\":\n",
    "        c *= -1.0\n",
    "\n",
    "    # constraint coefficient matrix\n",
    "    b_l = -np.inf * np.ones((num_cons))\n",
    "    b_u = np.inf * np.ones((num_cons))\n",
    "    row_ind = []\n",
    "    col_ind = []\n",
    "    data = []\n",
    "    for i, con in enumerate(mdl.constrs):\n",
    "        if con.expr.sense == \"=\":\n",
    "            b_l[i] = con.rhs\n",
    "            b_u[i] = con.rhs\n",
    "        elif con.expr.sense == \"<\":\n",
    "            b_u[i] = con.rhs\n",
    "        elif con.expr.sense == \">\":\n",
    "            b_l[i] = con.rhs\n",
    "        for j, var in enumerate(mdl.vars):\n",
    "            if var in (expr := con.expr.expr):\n",
    "                coeff = expr[var]\n",
    "                row_ind.append(i)\n",
    "                col_ind.append(j)\n",
    "                data.append(coeff)\n",
    "    A = csr_matrix((data, (row_ind, col_ind)), shape=(num_cons, num_vars))\n",
    "    return c, b_l, A, b_u, lb, ub, integrality,\n",
    "\n",
    "\n",
    "# return constrainst, b, int_var\n",
    "def parse(path):\n",
    "    c, b_l, A, b_u, lb, ub, integrality = read_mps(path)\n",
    "    constraints1 = A.toarray().tolist()\n",
    "    constraints2 = A.toarray().tolist()\n",
    "    print(b_l)\n",
    "    print(b_u)\n",
    "\n",
    "\n",
    "    constraints = []\n",
    "    n = len(constraints1)\n",
    "    m = len(constraints1[0])\n",
    "    for i in range(n):\n",
    "        constraints1[i].append(0)\n",
    "        constraints2[i].append(0)\n",
    "        constraints1[i][-1] = b_l[i]\n",
    "        constraints2[i][-1] = b_u[i]\n",
    "        constraints1[i].append(\">=\")\n",
    "        constraints2[i].append(\"<=\")\n",
    "        if constraints1[i][-2] > -1e+300:\n",
    "            constraints.append(constraints1[i])\n",
    "        if constraints2[i][-2] < 1e+300:\n",
    "            constraints.append(constraints2[i])\n",
    "    for i in range(m):\n",
    "        constraint1 = [0] * (m + 1)\n",
    "        constraint2 = [0] * (m + 1)\n",
    "        constraint1[i] = 1\n",
    "        constraint2[i] = 1\n",
    "        constraint1[-1] = lb[i]\n",
    "        constraint2[-1] = ub[i]\n",
    "        constraint1.append(\">=\")\n",
    "        constraint2.append(\"<=\")\n",
    "        if constraint1[-2] > -1e+300:\n",
    "            constraints.append(constraint1)\n",
    "        if constraint2[-2] < 1e+300:\n",
    "            constraints.append(constraint2)\n",
    "    return constraints, c, integrality"
   ]
  },
  {
   "cell_type": "code",
   "execution_count": 397,
   "id": "33240dcc",
   "metadata": {},
   "outputs": [
    {
     "name": "stderr",
     "output_type": "stream",
     "text": [
      "An error occurred while loading the CBC library:\t cannot load library '/Users/skyrex/anaconda3/lib/python3.11/site-packages/mip/libraries/cbc-c-darwin-x86-64.dylib': dlopen(/Users/skyrex/anaconda3/lib/python3.11/site-packages/mip/libraries/cbc-c-darwin-x86-64.dylib, 0x0002): tried: '/Users/skyrex/anaconda3/lib/python3.11/site-packages/mip/libraries/cbc-c-darwin-x86-64.dylib' (mach-o file, but is an incompatible architecture (have 'x86_64', need 'arm64')), '/System/Volumes/Preboot/Cryptexes/OS/Users/skyrex/anaconda3/lib/python3.11/site-packages/mip/libraries/cbc-c-darwin-x86-64.dylib' (no such file), '/Users/skyrex/anaconda3/lib/python3.11/site-packages/mip/libraries/cbc-c-darwin-x86-64.dylib' (mach-o file, but is an incompatible architecture (have 'x86_64', need 'arm64')).  Additionally, ctypes.util.find_library() did not manage to locate a library called '/Users/skyrex/anaconda3/lib/python3.11/site-packages/mip/libraries/cbc-c-darwin-x86-64.dylib'\n",
      "\n"
     ]
    },
    {
     "ename": "NameError",
     "evalue": "name 'cbclib' is not defined",
     "output_type": "error",
     "traceback": [
      "\u001b[0;31m---------------------------------------------------------------------------\u001b[0m",
      "\u001b[0;31mNameError\u001b[0m                                 Traceback (most recent call last)",
      "Cell \u001b[0;32mIn[397], line 2\u001b[0m\n\u001b[1;32m      1\u001b[0m path \u001b[38;5;241m=\u001b[39m \u001b[38;5;124m'\u001b[39m\u001b[38;5;124m/Users/skyrex/Downloads/ej.mps\u001b[39m\u001b[38;5;124m'\u001b[39m\n\u001b[0;32m----> 2\u001b[0m A, c, integrality \u001b[38;5;241m=\u001b[39m parse(path)\n\u001b[1;32m      3\u001b[0m \u001b[38;5;28;01mfor\u001b[39;00m a \u001b[38;5;129;01min\u001b[39;00m A:\n\u001b[1;32m      4\u001b[0m     \u001b[38;5;28mprint\u001b[39m(a)\n",
      "Cell \u001b[0;32mIn[396], line 62\u001b[0m, in \u001b[0;36mparse\u001b[0;34m(path)\u001b[0m\n\u001b[1;32m     61\u001b[0m \u001b[38;5;28;01mdef\u001b[39;00m \u001b[38;5;21mparse\u001b[39m(path):\n\u001b[0;32m---> 62\u001b[0m     c, b_l, A, b_u, lb, ub, integrality \u001b[38;5;241m=\u001b[39m read_mps(path)\n\u001b[1;32m     63\u001b[0m     constraints1 \u001b[38;5;241m=\u001b[39m A\u001b[38;5;241m.\u001b[39mtoarray()\u001b[38;5;241m.\u001b[39mtolist()\n\u001b[1;32m     64\u001b[0m     constraints2 \u001b[38;5;241m=\u001b[39m A\u001b[38;5;241m.\u001b[39mtoarray()\u001b[38;5;241m.\u001b[39mtolist()\n",
      "Cell \u001b[0;32mIn[396], line 11\u001b[0m, in \u001b[0;36mread_mps\u001b[0;34m(file)\u001b[0m\n\u001b[1;32m      1\u001b[0m \u001b[38;5;28;01mdef\u001b[39;00m \u001b[38;5;21mread_mps\u001b[39m(file: \u001b[38;5;28mstr\u001b[39m):\n\u001b[1;32m      2\u001b[0m \u001b[38;5;250m    \u001b[39m\u001b[38;5;124;03m\"\"\"\u001b[39;00m\n\u001b[1;32m      3\u001b[0m \u001b[38;5;124;03m    Reads a .mps and saves all the data of the MILP:\u001b[39;00m\n\u001b[1;32m      4\u001b[0m \n\u001b[0;32m   (...)\u001b[0m\n\u001b[1;32m      9\u001b[0m \u001b[38;5;124;03m                x_i integer if integrality[i] = 1\u001b[39;00m\n\u001b[1;32m     10\u001b[0m \u001b[38;5;124;03m    \"\"\"\u001b[39;00m\n\u001b[0;32m---> 11\u001b[0m     mdl \u001b[38;5;241m=\u001b[39m Model(solver_name\u001b[38;5;241m=\u001b[39m\u001b[38;5;124m\"\u001b[39m\u001b[38;5;124mCBC\u001b[39m\u001b[38;5;124m\"\u001b[39m)\n\u001b[1;32m     12\u001b[0m     mdl\u001b[38;5;241m.\u001b[39mread(file)\n\u001b[1;32m     14\u001b[0m     \u001b[38;5;66;03m# model parameters\u001b[39;00m\n",
      "File \u001b[0;32m~/anaconda3/lib/python3.11/site-packages/mip/model.py:87\u001b[0m, in \u001b[0;36mModel.__init__\u001b[0;34m(self, name, sense, solver_name, solver)\u001b[0m\n\u001b[1;32m     85\u001b[0m     \u001b[38;5;28mself\u001b[39m\u001b[38;5;241m.\u001b[39msolver \u001b[38;5;241m=\u001b[39m mip\u001b[38;5;241m.\u001b[39mgurobi\u001b[38;5;241m.\u001b[39mSolverGurobi(\u001b[38;5;28mself\u001b[39m, name, sense)\n\u001b[1;32m     86\u001b[0m \u001b[38;5;28;01melif\u001b[39;00m \u001b[38;5;28mself\u001b[39m\u001b[38;5;241m.\u001b[39msolver_name\u001b[38;5;241m.\u001b[39mupper() \u001b[38;5;241m==\u001b[39m \u001b[38;5;124m\"\u001b[39m\u001b[38;5;124mCBC\u001b[39m\u001b[38;5;124m\"\u001b[39m:\n\u001b[0;32m---> 87\u001b[0m     \u001b[38;5;28;01mimport\u001b[39;00m \u001b[38;5;21;01mmip\u001b[39;00m\u001b[38;5;21;01m.\u001b[39;00m\u001b[38;5;21;01mcbc\u001b[39;00m\n\u001b[1;32m     89\u001b[0m     \u001b[38;5;28mself\u001b[39m\u001b[38;5;241m.\u001b[39msolver \u001b[38;5;241m=\u001b[39m mip\u001b[38;5;241m.\u001b[39mcbc\u001b[38;5;241m.\u001b[39mSolverCbc(\u001b[38;5;28mself\u001b[39m, name, sense)\n\u001b[1;32m     90\u001b[0m \u001b[38;5;28;01melse\u001b[39;00m:\n",
      "File \u001b[0;32m~/anaconda3/lib/python3.11/site-packages/mip/cbc.py:603\u001b[0m\n\u001b[1;32m    599\u001b[0m INT_PARAM_CLIQUE_MERGING \u001b[38;5;241m=\u001b[39m \u001b[38;5;241m18\u001b[39m\n\u001b[1;32m    600\u001b[0m INT_PARAM_MAX_NODES_NOT_IMPROV_FS \u001b[38;5;241m=\u001b[39m \u001b[38;5;241m19\u001b[39m\n\u001b[0;32m--> 603\u001b[0m Osi_getNumCols \u001b[38;5;241m=\u001b[39m cbclib\u001b[38;5;241m.\u001b[39mOsi_getNumCols\n\u001b[1;32m    604\u001b[0m Osi_getColSolution \u001b[38;5;241m=\u001b[39m cbclib\u001b[38;5;241m.\u001b[39mOsi_getColSolution\n\u001b[1;32m    605\u001b[0m Osi_getIntegerTolerance \u001b[38;5;241m=\u001b[39m cbclib\u001b[38;5;241m.\u001b[39mOsi_getIntegerTolerance\n",
      "\u001b[0;31mNameError\u001b[0m: name 'cbclib' is not defined"
     ]
    }
   ],
   "source": [
    "path = '/Users/skyrex/Downloads/ej.mps'\n",
    "A, c, integrality = parse(path)\n",
    "for a in A:\n",
    "    print(a)\n",
    "print(-c)\n",
    "\n",
    "print(optimize(A, -c))"
   ]
  },
  {
   "cell_type": "markdown",
   "id": "0da79a86",
   "metadata": {},
   "source": [
    "## Levi function optimization"
   ]
  },
  {
   "cell_type": "code",
   "execution_count": 340,
   "id": "e177b4fe",
   "metadata": {},
   "outputs": [],
   "source": [
    "def make_levi_func(n):\n",
    "    def first_comp(x):\n",
    "        return (np.sin(3 * np.pi * x)) ** 2\n",
    "    \n",
    "    def second_comp(x, y, k):\n",
    "        return ((x - 1) ** 2) * (1 + np.sin(k * np.pi * y) ** 2)\n",
    "    \n",
    "    def res_func(x: list):\n",
    "        assert len(x) == n\n",
    "        s = first_comp(x[0])\n",
    "        for k in range(n):\n",
    "            s += second_comp(x[k], x[-1], n - k + 1)\n",
    "        return s\n",
    "    \n",
    "    return res_func  "
   ]
  },
  {
   "cell_type": "code",
   "execution_count": 341,
   "id": "b697712a-6bc7-41fd-a9a9-41ee1d0e84f8",
   "metadata": {},
   "outputs": [],
   "source": [
    "def expected_value(x: np.array):\n",
    "    return sum(x) / len(x)\n",
    "\n",
    "def variance(x: np.array):\n",
    "    return expected_value(np.square((x - expected_value(x))))\n",
    "\n",
    "def sigma(x: np.array):\n",
    "    return np.sqrt(variance(x))"
   ]
  },
  {
   "cell_type": "code",
   "execution_count": 342,
   "id": "bf1e46e1-456c-47ae-ba28-5e396a775726",
   "metadata": {},
   "outputs": [],
   "source": [
    "def confidence_interval(x: np.array):\n",
    "    z = 1.96\n",
    "    s = sigma(x)\n",
    "    n = len(x)\n",
    "    avg = expected_value(x)\n",
    "\n",
    "    return (avg - z * s / np.sqrt(n), avg + z * s / np.sqrt(n))"
   ]
  },
  {
   "cell_type": "code",
   "execution_count": 383,
   "id": "3a075fab-10b5-4ff7-8410-d45309a713c0",
   "metadata": {},
   "outputs": [],
   "source": [
    "def main_n_dim(n, f):\n",
    "    seed = 0\n",
    "    rng = np.random.RandomState(0)\n",
    "\n",
    "    b = []\n",
    "    for i in range(n):\n",
    "        b.append([-10, 10])\n",
    "\n",
    "    bounds = np.array(b)\n",
    "    lower_bounds, upper_bounds = bounds[:, 0], bounds[:, 1]\n",
    "\n",
    "    mean = lower_bounds + (np.random.rand(n) * (upper_bounds - lower_bounds))\n",
    "#     print(\"mean\", mean)\n",
    "    sigma = 20 / 5  # 1/5 of the domain width\n",
    "    optimizer = CMA(mean=mean, sigma=sigma, bounds=bounds, seed=seed)\n",
    "\n",
    "    n_restarts = 0  # A small restart doesn't count in the n_restarts\n",
    "    small_n_eval, large_n_eval = 0, 0\n",
    "    popsize0 = optimizer.population_size\n",
    "    inc_popsize = 2\n",
    "\n",
    "    # Initial run is with \"normal\" population size; it is\n",
    "    # the large population before first doubling, but its\n",
    "    # budget accounting is the same as in case of small\n",
    "    # population.\n",
    "    poptype = \"small\"\n",
    "\n",
    "#     function_value = []\n",
    "    \n",
    "    while n_restarts <= 2:\n",
    "        solutions = []\n",
    "        for _ in range(optimizer.population_size):\n",
    "            x = optimizer.ask()\n",
    "            value = f(x)\n",
    "            solutions.append((x, value))\n",
    "            # print(\"{:10.5f}  {:6.2f}  {:6.2f}\".format(value, x[0], x[1]))\n",
    "        optimizer.tell(solutions)\n",
    "#         function_value.append([v for arr, v in solutions])\n",
    "\n",
    "\n",
    "        if optimizer.should_stop():\n",
    "            seed += 1\n",
    "            n_eval = optimizer.population_size * optimizer.generation\n",
    "            if poptype == \"small\":\n",
    "                small_n_eval += n_eval\n",
    "            else:  # poptype == \"large\"\n",
    "                large_n_eval += n_eval\n",
    "\n",
    "            if small_n_eval < large_n_eval:\n",
    "                poptype = \"small\"\n",
    "                popsize_multiplier = inc_popsize ** n_restarts\n",
    "                popsize = math.floor(\n",
    "                    popsize0 * popsize_multiplier ** (np.random.uniform() ** 2)\n",
    "                )\n",
    "            else:\n",
    "                poptype = \"large\"\n",
    "                n_restarts += 1\n",
    "                popsize = popsize0 * (inc_popsize ** n_restarts)\n",
    "\n",
    "            mean = lower_bounds + (np.random.rand(n) * (upper_bounds - lower_bounds))\n",
    "\n",
    "            optimizer = CMA(\n",
    "                mean=mean,\n",
    "                sigma=sigma,\n",
    "                bounds=bounds,\n",
    "                seed=seed,\n",
    "                population_size=popsize,\n",
    "            )\n",
    "            # print(\"Restart CMA-ES with popsize={} ({})\".format(popsize, poptype))\n",
    "    \n",
    "\n",
    "    # for sol in solutions:\n",
    "    #     print(sol)\n",
    "\n",
    "    return solutions"
   ]
  },
  {
   "cell_type": "markdown",
   "id": "b1b3e362",
   "metadata": {},
   "source": [
    "### Confidence interval plotting"
   ]
  },
  {
   "cell_type": "code",
   "execution_count": 371,
   "id": "e8b841f3",
   "metadata": {},
   "outputs": [],
   "source": [
    "def test_optimizer(n, iter_num):\n",
    "    y_min = []\n",
    "    y_max = []\n",
    "    optimal = []\n",
    "    values = []\n",
    "    \n",
    "    for k in range(iter_num):\n",
    "        solutions = main_n_dim(n, make_levi_func(n))\n",
    "        \n",
    "        for x, v in solutions:\n",
    "            values.append(v)\n",
    "        \n",
    "        left, right = confidence_interval(values)\n",
    "        y_min.append(left)\n",
    "        y_max.append(right)\n",
    "        \n",
    "        opt = np.mean(values)\n",
    "        optimal.append(opt)\n",
    "        \n",
    "    return y_min, y_max, optimal\n",
    "        \n",
    "    "
   ]
  },
  {
   "cell_type": "code",
   "execution_count": 380,
   "id": "54899c61-f356-4a20-9589-d98e3e4b1c31",
   "metadata": {},
   "outputs": [],
   "source": [
    "def plot_confidence_interval(n, iter_num):\n",
    "    Y_min, Y_max, optimal = test_optimizer(n, iter_num)\n",
    "\n",
    "    x = np.linspace(0, iter_num, iter_num)\n",
    "\n",
    "    plt.plot(optimal, label=\"optimal\")\n",
    "    \n",
    "    plt.fill_between(x, Y_min, Y_max, color='r', alpha=.1, label=\"confidence interval\")\n",
    "    \n",
    "    plt.yscale('log')\n",
    "    plt.legend()\n",
    "    "
   ]
  },
  {
   "cell_type": "code",
   "execution_count": 392,
   "id": "f31e3920-b05c-49aa-84e6-3321bb67e990",
   "metadata": {},
   "outputs": [
    {
     "data": {
      "image/png": "[encoded data removed]",
      "text/plain": [
       "<Figure size 640x480 with 1 Axes>"
      ]
     },
     "metadata": {},
     "output_type": "display_data"
    }
   ],
   "source": [
    "plot_confidence_interval(2, 200)"
   ]
  },
  {
   "cell_type": "code",
   "execution_count": 393,
   "id": "71ace1bb",
   "metadata": {},
   "outputs": [],
   "source": [
    "s = main_n_dim(50, make_levi_func(50))"
   ]
  },
  {
   "cell_type": "code",
   "execution_count": 394,
   "id": "e299d586",
   "metadata": {},
   "outputs": [
    {
     "data": {
      "text/plain": [
       "[(array([1.        , 1.        , 1.        , 1.        , 1.        ,\n",
       "         1.        , 1.00000001, 1.        , 1.        , 1.        ,\n",
       "         1.        , 1.00000001, 1.00000001, 1.        , 1.        ,\n",
       "         1.        , 1.        , 0.99999999, 0.99999999, 0.99999999,\n",
       "         0.99999999, 1.        , 0.99999999, 1.        , 0.99999999,\n",
       "         1.        , 0.99999999, 1.        , 1.        , 1.00000001,\n",
       "         1.        , 1.00000001, 1.00000001, 1.        , 1.00000001,\n",
       "         0.99999999, 1.        , 1.        , 1.        , 1.        ,\n",
       "         1.        , 1.        , 1.00000001, 1.        , 1.        ,\n",
       "         1.        , 0.99999999, 0.99999999, 1.00000001, 1.        ]),\n",
       "  1.8004810494004754e-15),\n",
       " (array([1.        , 1.        , 1.00000001, 1.00000001, 0.99999999,\n",
       "         0.99999999, 1.        , 1.        , 0.99999999, 1.00000001,\n",
       "         1.        , 1.        , 1.        , 0.99999999, 1.        ,\n",
       "         1.00000001, 1.00000001, 1.        , 0.99999999, 0.99999999,\n",
       "         1.00000001, 0.99999999, 0.99999999, 1.00000001, 1.        ,\n",
       "         1.00000001, 1.        , 1.00000001, 1.        , 1.00000001,\n",
       "         1.        , 1.        , 1.        , 1.        , 1.        ,\n",
       "         1.        , 1.        , 1.        , 1.00000001, 1.        ,\n",
       "         0.99999999, 1.00000001, 1.        , 1.        , 1.        ,\n",
       "         1.        , 1.        , 1.        , 1.        , 0.99999999]),\n",
       "  2.0554443660455276e-15),\n",
       " (array([1.        , 1.        , 0.99999999, 1.00000001, 0.99999999,\n",
       "         1.        , 0.99999999, 1.        , 0.99999999, 0.99999999,\n",
       "         0.99999999, 1.00000001, 1.00000001, 1.        , 1.        ,\n",
       "         0.99999999, 1.00000001, 1.        , 1.        , 1.        ,\n",
       "         0.99999999, 1.        , 0.99999999, 1.00000001, 1.        ,\n",
       "         1.00000001, 0.99999999, 1.        , 1.        , 1.00000002,\n",
       "         1.        , 1.00000001, 1.00000001, 1.        , 1.        ,\n",
       "         0.99999999, 1.        , 1.        , 0.99999999, 0.99999999,\n",
       "         1.        , 1.        , 1.        , 0.99999999, 1.        ,\n",
       "         1.        , 1.00000001, 1.        , 1.        , 1.        ]),\n",
       "  2.0632029025394245e-15),\n",
       " (array([1.        , 1.        , 1.        , 1.        , 1.        ,\n",
       "         1.        , 1.        , 1.00000001, 0.99999999, 1.        ,\n",
       "         1.        , 0.99999999, 1.        , 0.99999999, 1.00000002,\n",
       "         1.        , 1.00000001, 1.00000001, 1.        , 0.99999999,\n",
       "         1.        , 1.        , 1.        , 1.        , 1.        ,\n",
       "         1.        , 0.99999998, 1.00000001, 1.        , 0.99999999,\n",
       "         1.        , 1.        , 1.        , 1.        , 1.00000001,\n",
       "         1.        , 1.        , 1.00000001, 0.99999999, 1.        ,\n",
       "         0.99999999, 1.00000001, 1.        , 0.99999999, 1.        ,\n",
       "         0.99999999, 1.        , 1.        , 1.        , 1.        ]),\n",
       "  2.1385515781157313e-15),\n",
       " (array([1.        , 0.99999999, 1.        , 1.        , 0.99999999,\n",
       "         1.        , 1.        , 1.        , 1.        , 1.        ,\n",
       "         1.        , 1.        , 1.        , 1.        , 0.99999999,\n",
       "         1.        , 1.00000001, 0.99999999, 0.99999999, 0.99999999,\n",
       "         1.        , 0.99999999, 0.99999999, 1.        , 0.99999999,\n",
       "         1.        , 0.99999999, 1.00000002, 0.99999999, 1.00000001,\n",
       "         1.        , 1.00000002, 1.        , 1.        , 1.        ,\n",
       "         0.99999999, 1.        , 1.00000001, 1.        , 1.        ,\n",
       "         1.        , 1.00000001, 1.00000001, 0.99999999, 0.99999999,\n",
       "         0.99999999, 1.        , 0.99999999, 1.        , 1.        ]),\n",
       "  2.165492065739464e-15),\n",
       " (array([1.        , 1.        , 1.        , 1.        , 1.        ,\n",
       "         1.        , 1.        , 1.        , 1.        , 1.        ,\n",
       "         1.        , 1.00000001, 1.        , 1.        , 1.00000001,\n",
       "         1.        , 1.        , 0.99999999, 0.99999999, 1.        ,\n",
       "         1.00000001, 1.        , 0.99999999, 1.        , 0.99999998,\n",
       "         1.        , 0.99999998, 1.        , 0.99999999, 1.00000001,\n",
       "         0.99999999, 1.        , 0.99999999, 1.        , 1.        ,\n",
       "         0.99999999, 0.99999999, 1.        , 1.        , 0.99999998,\n",
       "         1.        , 1.00000001, 1.        , 0.99999999, 0.99999999,\n",
       "         1.        , 1.        , 0.99999998, 0.99999999, 1.        ]),\n",
       "  2.299503537517135e-15),\n",
       " (array([1.        , 0.99999999, 1.        , 0.99999999, 0.99999999,\n",
       "         1.        , 1.        , 1.00000001, 1.        , 1.        ,\n",
       "         0.99999999, 1.00000001, 1.00000001, 1.        , 1.00000001,\n",
       "         0.99999999, 1.        , 1.        , 1.        , 1.        ,\n",
       "         1.        , 1.        , 0.99999999, 1.        , 1.        ,\n",
       "         1.        , 0.99999999, 1.        , 0.99999999, 1.        ,\n",
       "         1.        , 1.00000001, 1.        , 1.        , 1.00000001,\n",
       "         0.99999999, 1.        , 1.00000001, 1.        , 1.        ,\n",
       "         1.        , 1.00000001, 1.00000002, 1.        , 1.        ,\n",
       "         1.00000001, 0.99999998, 0.99999999, 0.99999999, 1.        ]),\n",
       "  2.318102132740796e-15),\n",
       " (array([1.        , 0.99999999, 0.99999999, 1.        , 1.        ,\n",
       "         1.        , 0.99999999, 1.        , 0.99999999, 1.        ,\n",
       "         1.00000001, 0.99999999, 1.        , 1.        , 0.99999999,\n",
       "         0.99999999, 1.00000001, 1.        , 0.99999999, 1.00000001,\n",
       "         0.99999999, 0.99999999, 1.        , 1.00000001, 0.99999999,\n",
       "         1.        , 0.99999999, 1.        , 0.99999998, 0.99999999,\n",
       "         1.00000001, 1.        , 1.        , 1.00000001, 0.99999999,\n",
       "         1.        , 1.        , 1.        , 1.00000001, 1.        ,\n",
       "         1.        , 1.00000001, 1.        , 1.        , 1.        ,\n",
       "         1.00000001, 1.        , 1.        , 1.00000001, 1.00000001]),\n",
       "  2.3378290180687345e-15),\n",
       " (array([1.        , 1.        , 1.00000001, 1.00000001, 0.99999999,\n",
       "         1.        , 1.00000001, 1.        , 1.        , 0.99999999,\n",
       "         1.        , 1.        , 1.00000001, 1.        , 1.00000001,\n",
       "         1.        , 1.        , 1.        , 0.99999999, 1.        ,\n",
       "         0.99999999, 1.        , 1.        , 1.        , 0.99999999,\n",
       "         1.        , 0.99999999, 0.99999999, 1.        , 1.        ,\n",
       "         1.        , 1.00000001, 1.00000001, 1.        , 1.        ,\n",
       "         1.00000001, 0.99999999, 1.        , 1.        , 1.        ,\n",
       "         1.        , 1.00000001, 0.99999999, 0.99999999, 0.99999999,\n",
       "         1.        , 1.00000001, 1.        , 1.        , 0.99999999]),\n",
       "  2.369808964984868e-15),\n",
       " (array([1.        , 1.        , 0.99999999, 1.        , 1.        ,\n",
       "         1.        , 1.        , 1.00000001, 0.99999999, 1.        ,\n",
       "         1.00000002, 1.        , 1.        , 1.        , 1.00000001,\n",
       "         1.        , 1.00000001, 0.99999998, 0.99999999, 1.        ,\n",
       "         0.99999999, 1.        , 0.99999999, 1.        , 1.        ,\n",
       "         1.00000002, 0.99999999, 1.00000001, 1.        , 1.00000001,\n",
       "         1.00000001, 1.        , 1.        , 1.        , 1.        ,\n",
       "         0.99999999, 1.        , 1.        , 1.        , 1.        ,\n",
       "         1.        , 1.00000001, 1.        , 0.99999999, 1.        ,\n",
       "         0.99999999, 1.00000001, 1.        , 1.        , 1.        ]),\n",
       "  2.3759001412629164e-15),\n",
       " (array([1.        , 1.        , 1.        , 1.        , 0.99999999,\n",
       "         1.00000001, 1.00000001, 1.        , 0.99999998, 1.        ,\n",
       "         0.99999999, 1.00000001, 1.        , 1.        , 1.        ,\n",
       "         0.99999999, 1.00000001, 1.        , 1.        , 1.00000001,\n",
       "         1.        , 1.00000001, 1.        , 1.        , 0.99999999,\n",
       "         1.        , 0.99999998, 1.        , 1.        , 1.        ,\n",
       "         1.        , 1.00000001, 0.99999999, 1.        , 1.00000001,\n",
       "         1.00000001, 1.        , 1.        , 1.        , 1.        ,\n",
       "         0.99999999, 1.00000001, 1.        , 0.99999999, 1.        ,\n",
       "         1.        , 1.        , 1.00000001, 0.99999999, 1.        ]),\n",
       "  2.4567489972837414e-15),\n",
       " (array([1.        , 0.99999999, 0.99999999, 1.        , 1.        ,\n",
       "         1.        , 1.00000001, 1.        , 0.99999999, 1.        ,\n",
       "         1.        , 1.        , 1.        , 0.99999999, 1.00000001,\n",
       "         0.99999999, 1.00000001, 0.99999999, 1.        , 1.        ,\n",
       "         1.        , 1.        , 1.        , 1.        , 1.        ,\n",
       "         1.        , 0.99999999, 1.        , 1.        , 1.        ,\n",
       "         0.99999999, 1.00000001, 1.00000001, 0.99999999, 1.00000001,\n",
       "         0.99999998, 0.99999999, 1.00000001, 1.        , 1.        ,\n",
       "         1.        , 1.00000001, 1.        , 0.99999999, 1.        ,\n",
       "         1.        , 1.        , 0.99999999, 0.99999999, 1.        ]),\n",
       "  2.4983861048253216e-15),\n",
       " (array([1.        , 1.        , 1.        , 1.00000001, 1.00000001,\n",
       "         1.        , 1.        , 1.        , 0.99999999, 1.00000001,\n",
       "         1.        , 0.99999999, 1.        , 1.        , 1.00000001,\n",
       "         0.99999999, 1.00000001, 1.        , 1.        , 0.99999999,\n",
       "         1.        , 0.99999998, 0.99999999, 1.        , 1.        ,\n",
       "         1.00000002, 0.99999998, 1.        , 0.99999999, 1.        ,\n",
       "         1.        , 0.99999999, 1.        , 1.        , 1.        ,\n",
       "         0.99999999, 0.99999999, 0.99999999, 0.99999999, 1.        ,\n",
       "         1.        , 1.00000001, 1.        , 0.99999999, 1.        ,\n",
       "         0.99999999, 1.        , 1.00000001, 1.00000001, 1.        ]),\n",
       "  2.5910810365474257e-15),\n",
       " (array([1.        , 1.00000001, 1.        , 1.        , 1.        ,\n",
       "         1.        , 1.        , 1.        , 0.99999999, 1.00000001,\n",
       "         0.99999998, 0.99999999, 1.        , 0.99999999, 1.        ,\n",
       "         1.        , 1.00000001, 0.99999999, 0.99999999, 1.        ,\n",
       "         1.        , 1.        , 0.99999999, 1.        , 0.99999999,\n",
       "         1.        , 0.99999998, 1.00000001, 0.99999999, 0.99999999,\n",
       "         1.        , 1.        , 1.        , 0.99999999, 1.        ,\n",
       "         0.99999999, 0.99999999, 1.        , 0.99999999, 0.99999999,\n",
       "         1.        , 1.00000001, 0.99999999, 1.00000001, 1.        ,\n",
       "         1.        , 1.        , 1.        , 1.        , 1.        ]),\n",
       "  2.8196970582468396e-15),\n",
       " (array([1.        , 1.        , 1.        , 1.00000001, 0.99999999,\n",
       "         0.99999999, 0.99999999, 1.        , 1.        , 1.        ,\n",
       "         1.        , 1.        , 1.        , 0.99999999, 1.        ,\n",
       "         1.        , 1.        , 0.99999999, 0.99999999, 1.        ,\n",
       "         1.        , 0.99999999, 0.99999999, 1.        , 0.99999999,\n",
       "         1.        , 0.99999998, 0.99999999, 1.        , 1.        ,\n",
       "         1.        , 1.00000002, 1.        , 1.00000001, 1.        ,\n",
       "         0.99999999, 1.        , 1.00000001, 1.        , 1.        ,\n",
       "         1.00000001, 1.00000001, 1.        , 1.        , 1.        ,\n",
       "         1.        , 1.00000001, 1.        , 1.00000001, 0.99999998]),\n",
       "  2.84872805375199e-15),\n",
       " (array([1.        , 1.00000001, 1.        , 1.00000001, 1.        ,\n",
       "         1.        , 1.00000001, 1.00000001, 0.99999999, 1.00000001,\n",
       "         1.00000001, 0.99999999, 1.        , 1.        , 0.99999998,\n",
       "         0.99999999, 1.        , 1.        , 0.99999999, 0.99999999,\n",
       "         1.        , 0.99999999, 1.        , 0.99999999, 1.        ,\n",
       "         1.        , 1.        , 1.        , 1.        , 1.        ,\n",
       "         1.        , 1.00000001, 1.        , 1.        , 1.00000001,\n",
       "         1.        , 1.        , 1.        , 1.00000001, 1.        ,\n",
       "         1.00000001, 1.        , 1.        , 0.99999999, 0.99999999,\n",
       "         1.        , 1.00000001, 1.00000001, 1.00000002, 0.99999999]),\n",
       "  2.875234780506989e-15),\n",
       " (array([1.        , 0.99999998, 1.        , 0.99999999, 1.        ,\n",
       "         1.        , 1.        , 1.        , 0.99999999, 1.00000001,\n",
       "         1.        , 0.99999999, 1.        , 1.        , 1.00000001,\n",
       "         0.99999999, 1.        , 1.        , 0.99999999, 1.        ,\n",
       "         1.        , 0.99999999, 1.        , 1.        , 1.        ,\n",
       "         1.00000002, 0.99999999, 1.        , 1.        , 1.00000001,\n",
       "         1.        , 1.00000001, 1.        , 1.        , 1.        ,\n",
       "         0.99999998, 0.99999999, 1.        , 0.99999999, 1.        ,\n",
       "         1.        , 1.        , 0.99999998, 0.99999999, 1.00000001,\n",
       "         0.99999999, 1.00000001, 1.        , 1.00000001, 1.        ]),\n",
       "  2.9607602489133567e-15),\n",
       " (array([1.        , 1.        , 1.00000001, 1.        , 1.00000001,\n",
       "         1.        , 1.        , 1.        , 1.00000001, 1.        ,\n",
       "         1.        , 1.        , 1.        , 0.99999999, 1.00000001,\n",
       "         0.99999999, 0.99999999, 1.00000001, 1.        , 0.99999999,\n",
       "         1.        , 1.        , 0.99999998, 1.        , 0.99999999,\n",
       "         1.00000001, 0.99999998, 1.        , 1.        , 1.00000001,\n",
       "         0.99999999, 1.        , 1.00000001, 1.        , 1.00000001,\n",
       "         0.99999999, 1.        , 1.00000001, 0.99999999, 1.        ,\n",
       "         1.00000001, 1.00000001, 1.        , 0.99999999, 1.00000001,\n",
       "         1.        , 1.        , 0.99999999, 1.        , 1.        ]),\n",
       "  2.9992538302963495e-15),\n",
       " (array([1.        , 1.        , 0.99999999, 1.        , 0.99999999,\n",
       "         1.00000001, 1.00000001, 1.00000001, 1.00000001, 1.        ,\n",
       "         0.99999999, 1.        , 1.00000001, 0.99999999, 1.        ,\n",
       "         1.        , 1.        , 1.        , 0.99999999, 0.99999999,\n",
       "         0.99999999, 0.99999999, 0.99999999, 1.        , 1.        ,\n",
       "         1.        , 0.99999999, 1.00000001, 1.        , 1.        ,\n",
       "         1.        , 1.00000002, 1.00000001, 1.        , 1.00000001,\n",
       "         1.        , 1.        , 1.00000002, 0.99999999, 1.        ,\n",
       "         1.00000001, 1.        , 0.99999999, 1.        , 1.        ,\n",
       "         1.        , 1.00000001, 1.        , 1.        , 1.        ]),\n",
       "  3.17671758129494e-15),\n",
       " (array([1.        , 0.99999999, 0.99999999, 1.        , 0.99999999,\n",
       "         1.00000001, 0.99999999, 1.00000001, 1.        , 0.99999999,\n",
       "         1.00000001, 1.00000002, 1.        , 0.99999999, 1.00000001,\n",
       "         0.99999999, 1.00000001, 1.        , 0.99999999, 0.99999999,\n",
       "         0.99999999, 1.00000001, 0.99999999, 1.        , 1.        ,\n",
       "         1.00000001, 0.99999999, 1.        , 1.        , 1.        ,\n",
       "         1.        , 1.        , 1.        , 0.99999999, 1.00000001,\n",
       "         1.        , 0.99999999, 1.        , 1.        , 1.        ,\n",
       "         1.        , 1.        , 1.        , 1.        , 0.99999999,\n",
       "         1.00000001, 1.        , 1.        , 1.        , 1.        ]),\n",
       "  3.324316419205292e-15),\n",
       " (array([1.        , 0.99999999, 0.99999999, 1.00000001, 1.        ,\n",
       "         1.        , 1.        , 1.        , 1.        , 1.        ,\n",
       "         1.        , 1.        , 1.00000001, 1.        , 1.00000001,\n",
       "         0.99999999, 1.        , 0.99999999, 0.99999999, 1.00000001,\n",
       "         1.        , 1.00000001, 0.99999999, 1.        , 0.99999999,\n",
       "         1.        , 1.        , 1.        , 1.        , 1.        ,\n",
       "         1.00000001, 1.        , 0.99999999, 1.00000001, 1.        ,\n",
       "         0.99999998, 0.99999998, 1.00000001, 1.00000001, 1.        ,\n",
       "         1.        , 1.00000002, 1.00000001, 0.99999999, 0.99999999,\n",
       "         1.        , 1.        , 0.99999998, 1.        , 1.        ]),\n",
       "  3.6123355694083755e-15)]"
      ]
     },
     "execution_count": 394,
     "metadata": {},
     "output_type": "execute_result"
    }
   ],
   "source": [
    "s"
   ]
  }
 ],
 "metadata": {
  "kernelspec": {
   "display_name": "Python 3 (ipykernel)",
   "language": "python",
   "name": "python3"
  },
  "language_info": {
   "codemirror_mode": {
    "name": "ipython",
    "version": 3
   },
   "file_extension": ".py",
   "mimetype": "text/x-python",
   "name": "python",
   "nbconvert_exporter": "python",
   "pygments_lexer": "ipython3",
   "version": "3.11.5"
  }
 },
 "nbformat": 4,
 "nbformat_minor": 5
}
