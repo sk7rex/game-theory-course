{
 "cells": [
  {
   "cell_type": "markdown",
   "id": "aab1b89d-e452-4fb9-a4a8-7305f6fd8954",
   "metadata": {},
   "source": [
    "# Game theory: Finale"
   ]
  },
  {
   "cell_type": "code",
   "execution_count": 1,
   "id": "8c74ae8b",
   "metadata": {},
   "outputs": [],
   "source": [
    "import numpy as np\n",
    "import matplotlib.pyplot as plt\n",
    "import copy\n",
    "import math\n",
    "from cmaes import CMA\n",
    "%matplotlib inline"
   ]
  },
  {
   "cell_type": "markdown",
   "id": "5b123351",
   "metadata": {},
   "source": [
    "## Simplex method implementation"
   ]
  },
  {
   "cell_type": "code",
   "execution_count": 2,
   "id": "e7466fb5-f3e5-41c2-981b-210c3885587c",
   "metadata": {},
   "outputs": [],
   "source": [
    "def recognition(constraints: list):\n",
    "    contradictions = []\n",
    "    for i in range(len(constraints)):\n",
    "        if (constraints[i][-1] == \"<=\" and constraints[i][-2] < 0) or (\n",
    "                constraints[i][-1] == \">=\" and constraints[i][-2] > 0):\n",
    "            return True\n",
    "    return False"
   ]
  },
  {
   "cell_type": "code",
   "execution_count": 4,
   "id": "9b5305e8-7665-4a01-80b9-aceefd243ad0",
   "metadata": {},
   "outputs": [],
   "source": [
    "def get_table_single_phase(constraints: list, b: np.array):\n",
    "    col_num = len(constraints) + len(b) + 1\n",
    "    row_num = 1 + len(constraints)\n",
    "    table = np.zeros((row_num, col_num))\n",
    "\n",
    "    row_to_name = {}\n",
    "    col_to_name = {}\n",
    "    name_to_value = {}\n",
    "    \n",
    "    for k in range(len(constraints)):\n",
    "        col_to_name[k] = \"l\" + str(k)\n",
    "    \n",
    "    for k in range(len(constraints), col_num - 1):\n",
    "        col_to_name[k] = \"x\" + str(k - len(constraints))\n",
    "    \n",
    "    for k in range(len(constraints)):\n",
    "        row_to_name[k] = \"l\" + str(k) \n",
    "\n",
    "    for k in range(len(constraints)):\n",
    "        if constraints[k][-1] == \"<=\" or constraints[k][-1] == \"=\":\n",
    "            name_to_value[\"l\" + str(k)] = constraints[k][-2]\n",
    "        else:\n",
    "            name_to_value[\"l\" + str(k)] = -constraints[k][-2]\n",
    "\n",
    "    for k in range(len(b)):\n",
    "        name_to_value[\"x\" + str(k)] = 0\n",
    "\n",
    "    for i in range(len(constraints)):\n",
    "        table[i][i] = 1\n",
    "\n",
    "    for j in range(len(constraints), col_num - 1):\n",
    "        for i in range(row_num - 1):\n",
    "            table[i][j] = constraints[i][j - len(constraints)]\n",
    "\n",
    "    for i in range(row_num - 1):\n",
    "        table[i][-1] = name_to_value[\"l\" + str(i)]\n",
    "\n",
    "    table[row_num - 1][-1] = 0\n",
    "\n",
    "    new_b = np.zeros(col_num - 1)\n",
    "    for k in range(len(constraints), len(b) + len(constraints)):\n",
    "        new_b[k] = b[k - len(constraints)]\n",
    "\n",
    "    for j in range(len(constraints), col_num - 1):\n",
    "        table[-1][j] = np.dot(table.T[j][:-1], new_b[:len(constraints)]) - new_b[j]\n",
    "\n",
    "    return table, name_to_value, row_to_name, col_to_name"
   ]
  },
  {
   "cell_type": "code",
   "execution_count": 5,
   "id": "25304950-28a2-4cd6-9f34-3415a18510e0",
   "metadata": {},
   "outputs": [],
   "source": [
    "def get_r_and_constraints(constraints_old, b_old):\n",
    "    constraints = copy.deepcopy(constraints_old)\n",
    "    for i in range(len(constraints_old)):\n",
    "        for k in range(len(constraints_old)):\n",
    "            constraints[i].append(0)\n",
    "        constraints[i][len(constraints_old)], constraints[i][-1] = constraints[i][-1], constraints[i][\n",
    "            len(constraints_old)]\n",
    "        constraints[i][len(constraints_old) - 1], constraints[i][-2] = constraints[i][-2], constraints[i][\n",
    "            len(constraints_old) - 1]\n",
    "\n",
    "        constraints[i][i + len(constraints_old) - 1] = (-1 if constraints_old[i][-1] == \">=\" else 1)\n",
    "\n",
    "    b = [0] * (len(constraints[0]) - 2)\n",
    "    for j in range(len(constraints[0]) - 2):\n",
    "        for i in range(len(constraints)):\n",
    "            b[j] -= constraints[i][j]\n",
    "    return constraints, b"
   ]
  },
  {
   "cell_type": "code",
   "execution_count": 6,
   "id": "7b88ac7e-3e50-4fcd-91c6-c5f406025c00",
   "metadata": {},
   "outputs": [],
   "source": [
    "def get_table_two_phase(constraints: list, b: np.array):\n",
    "    col_num = 2 * len(constraints) + len(b) + 1\n",
    "    row_num = 2 + len(constraints)\n",
    "    table = np.zeros((row_num, col_num))\n",
    "\n",
    "    row_to_name = {}\n",
    "    col_to_name = {}\n",
    "    name_to_value = {}\n",
    "    \n",
    "    for k in range(len(constraints)):\n",
    "        col_to_name[k] = \"l\" + str(k)\n",
    "    \n",
    "    for k in range(len(constraints), 2 * len(constraints)):\n",
    "        col_to_name[k] = \"r\" + str(k - len(constraints))\n",
    "\n",
    "    for k in range(2 * len(constraints), col_num):\n",
    "        col_to_name[k] = \"x\" + str(k - 2 * len(constraints))\n",
    "    \n",
    "    for k in range(len(constraints)):\n",
    "        row_to_name[k] = \"r\" + str(k) \n",
    "\n",
    "    for k in range(len(constraints)):\n",
    "        name_to_value[\"r\" + str(k)] = constraints[k][-2]\n",
    "        name_to_value[\"l\" + str(k)] = 0\n",
    "\n",
    "    for k in range(len(b)):\n",
    "        name_to_value[\"x\" + str(k)] = 0\n",
    "\n",
    "    for i in range(len(constraints), 2 * len(constraints)): # заполняем t_ij для r_k\n",
    "        table[i - len(constraints)][i] = 1\n",
    "\n",
    "    for j in range(len(constraints)): # заполняем t_ij для l_k\n",
    "        if constraints[j][-1] == \"<=\" or constraints[j][-1] == \"=\":\n",
    "            table[j][j] = 1\n",
    "        else:\n",
    "            table[j][j] = -1\n",
    "\n",
    "    for j in range(2 * len(constraints), col_num - 1): # заполняем t_ij для x_k\n",
    "        for i in range(row_num - 2):\n",
    "            table[i][j] = constraints[i][j - 2 * len(constraints)]\n",
    "\n",
    "    for i in range(row_num - 2):\n",
    "        table[i][-1] = name_to_value[\"r\" + str(i)]\n",
    "\n",
    "    for j in range(2 * len(constraints), col_num - 1): # заполняем предпоследнюю строку для x_k\n",
    "        table[-2][j] = -b[j - 2 * len(constraints)]\n",
    "\n",
    "    table[-2][-1] = 0\n",
    "\n",
    "    for j in range(len(constraints)): # заполняем последнюю строку для l_k\n",
    "        if constraints[j][-1] == \"<=\" or constraints[i][-1] == \"=\":\n",
    "            table[-1][j] = 1\n",
    "        else:\n",
    "            table[-1][j] = -1\n",
    "\n",
    "    for j in range(2 * len(constraints), col_num - 1): # заполняем последнюю строку для x_k\n",
    "        sum_ = sum([float(x) for x in np.array(constraints).T[:][j - 2 * len(constraints)]])\n",
    "        table[-1][j] = sum_\n",
    "\n",
    "    table[-1][-1] = sum([name_to_value[\"r\" + str(k)] for k in range(len(constraints))])\n",
    "\n",
    "    return table, name_to_value, row_to_name, col_to_name"
   ]
  },
  {
   "cell_type": "code",
   "execution_count": 7,
   "id": "5d776135-08d9-4e1f-b8ac-b99b1c442929",
   "metadata": {},
   "outputs": [],
   "source": [
    "def delete_col(table, col_to_name: dict, i: int):\n",
    "    table = np.delete(table, i, axis=1)\n",
    "    for j in range(i + 1, len(col_to_name)):\n",
    "        col_to_name[j - 1] = col_to_name[j]\n",
    "    col_to_name.pop(len(col_to_name) - 1)\n",
    "    return table, col_to_name"
   ]
  },
  {
   "cell_type": "code",
   "execution_count": 8,
   "id": "c69306c2-a6a1-410a-9e16-59afbad47b35",
   "metadata": {},
   "outputs": [],
   "source": [
    "def trim_table(table, name_to_value: dict, row_to_name: dict, col_to_name: dict):\n",
    "    to_del = []\n",
    "    for i in col_to_name:\n",
    "        if col_to_name[i][0] == \"r\":\n",
    "            to_del.append(i)\n",
    "        if i < len(table) - 2:\n",
    "           name_to_value.pop(\"r\" + str(i))\n",
    "\n",
    "    for i in range(len(to_del)):\n",
    "        table, col_to_name = delete_col(table, col_to_name, to_del[i] - i)\n",
    "    table = np.delete(table, len(table) - 1, axis=0)\n",
    "    return table, name_to_value, row_to_name, col_to_name"
   ]
  },
  {
   "cell_type": "code",
   "execution_count": 9,
   "id": "41f08c2f",
   "metadata": {},
   "outputs": [],
   "source": [
    "def can_be_improved(table):\n",
    "    return any(x > 0 for x in table[-1][:-1])"
   ]
  },
  {
   "cell_type": "code",
   "execution_count": 10,
   "id": "ddd7d3de-1f57-498c-abbe-4ecdc60d2837",
   "metadata": {},
   "outputs": [],
   "source": [
    "def get_pivot_position_single_phase(table):\n",
    "    col_num = len(table[0])\n",
    "    row_num = len(table)\n",
    "    \n",
    "    min_divided = float('inf')\n",
    "    min_index = (-1, -1)\n",
    "    \n",
    "    for j in range(col_num - 1):\n",
    "        if table[-1][j] > 0:\n",
    "            for i in range(row_num - 1):\n",
    "                if table[i][j] > 0:\n",
    "                    cur_divided = table[i][-1] / table[i][j]\n",
    "                    if cur_divided < min_divided:\n",
    "                        min_index = (i, j)\n",
    "                        min_divided = cur_divided\n",
    "            \n",
    "    \n",
    "    return min_index # returns (-1, -1) if all table[i][j] < 0            \n",
    "            "
   ]
  },
  {
   "cell_type": "code",
   "execution_count": 11,
   "id": "0be9077e-1167-4b08-95cd-734dd173c899",
   "metadata": {},
   "outputs": [],
   "source": [
    "def get_pivot_position_two_phase(table):\n",
    "    col_num = len(table[0])\n",
    "    row_num = len(table)\n",
    "\n",
    "    min_divided = float('inf')\n",
    "    min_index = (-1, -1)\n",
    "\n",
    "    for j in range(col_num - 1):\n",
    "        if table[-1][j] > 0:\n",
    "            for i in range(row_num - 2):\n",
    "                if table[i][j] > 0:\n",
    "                    cur_divided = table[i][-1] / table[i][j]\n",
    "                    if cur_divided < min_divided:\n",
    "                        min_index = (i, j)\n",
    "                        min_divided = cur_divided\n",
    "\n",
    "    return min_index  # returns (-1, -1) if all table[i][j] < 0"
   ]
  },
  {
   "cell_type": "code",
   "execution_count": 12,
   "id": "7d8facd1-13ff-42c5-987a-73b6949737ba",
   "metadata": {},
   "outputs": [],
   "source": [
    "def simplex_step_single_phase(table, row_to_name: dict, col_to_name: dict, name_to_value: dict):\n",
    "    col_num = len(table[0])\n",
    "    row_num = len(table)\n",
    "    \n",
    "    i, j = get_pivot_position_single_phase(table)\n",
    "    if (i, j) == (-1, -1):\n",
    "        return None\n",
    "    row = table[i] / table[i][j]\n",
    "\n",
    "    for k in range(row_num - 1):\n",
    "        if k == i:\n",
    "            continue\n",
    "        table[k] -= table[k][j] * row\n",
    "        name_to_value[row_to_name[k]] = table[k][-1]\n",
    "\n",
    "    table[i] /= table[i][j]\n",
    "    name_to_value[row_to_name[i]] = table[i][-1]\n",
    "\n",
    "    table[-1] -= table[-1][j] * row\n",
    "    \n",
    "    # print(\"col_to_name \", col_to_name)\n",
    "    # print(\"row_to_name \", row_to_name)\n",
    "        \n",
    "    v1 = name_to_value.get(row_to_name.get(i))\n",
    "    v2 = name_to_value.get(col_to_name.get(j))\n",
    "    name_to_value[row_to_name[i]] = v2\n",
    "    name_to_value[col_to_name[j]] = v1\n",
    "    \n",
    "    \n",
    "    v3 = row_to_name.get(i)\n",
    "    v4 = col_to_name.get(j)\n",
    "    row_to_name[i] = v4\n",
    "    col_to_name[j] = v3\n",
    "\n",
    "    return row_to_name, col_to_name, name_to_value\n",
    "    "
   ]
  },
  {
   "cell_type": "code",
   "execution_count": 13,
   "id": "a2ef6ee9-c76f-4e82-963e-75d957792de8",
   "metadata": {},
   "outputs": [],
   "source": [
    "def simplex_step_two_phase(table, row_to_name: dict, col_to_name: dict, name_to_value: dict):\n",
    "    col_num = len(table[0])\n",
    "    row_num = len(table)\n",
    "\n",
    "    i, j = get_pivot_position_two_phase(table)\n",
    "    if (i, j) == (-1, -1):\n",
    "        return None\n",
    "\n",
    "    row = table[i] / table[i][j]\n",
    "\n",
    "    for k in range(row_num - 2):\n",
    "        if k == i:\n",
    "            continue\n",
    "        table[k] -= table[k][j] * row\n",
    "        name_to_value[row_to_name[k]] = table[k][-1]\n",
    "\n",
    "    table[i] /= table[i][j]\n",
    "    name_to_value[row_to_name[i]] = table[i][-1]\n",
    "    table[-2] -= table[-2][j] * row\n",
    "    table[-1] -= table[-1][j] * row\n",
    "\n",
    "    # print(\"col_to_name \", col_to_name)\n",
    "    # print(\"row_to_name \", row_to_name)\n",
    "\n",
    "    v1 = name_to_value[row_to_name[i]]\n",
    "    v2 = name_to_value[col_to_name[j]]\n",
    "    name_to_value[row_to_name[i]] = v2\n",
    "    name_to_value[col_to_name[j]] = v1\n",
    "\n",
    "\n",
    "    v4 = col_to_name[j]\n",
    "    row_to_name[i] = v4\n",
    "\n",
    "\n",
    "    return row_to_name, col_to_name, name_to_value"
   ]
  },
  {
   "cell_type": "code",
   "execution_count": 14,
   "id": "779ed65b",
   "metadata": {},
   "outputs": [],
   "source": [
    "def simplex_method(constraints: list, b: np.array):\n",
    "    zero_solution = not recognition(constraints)\n",
    "\n",
    "    if zero_solution:\n",
    "        table, name_to_value, row_to_name, col_to_name = get_table_single_phase(constraints, b)\n",
    "\n",
    "        while can_be_improved(table):\n",
    "            if simplex_step_single_phase(table, row_to_name, col_to_name, name_to_value) == None:\n",
    "                # print(\"there is no solution\")\n",
    "                return None, None, None, None\n",
    "    else:\n",
    "        table, name_to_value, row_to_name, col_to_name = get_table_two_phase(constraints, b)\n",
    "\n",
    "        while can_be_improved(table):\n",
    "            if simplex_step_two_phase(table, row_to_name, col_to_name, name_to_value) == None:\n",
    "                print(\"there is no solution because pivot index does not exist\")\n",
    "                return None, None, None, None\n",
    "\n",
    "        flag = True\n",
    "\n",
    "        if any(row_to_name[q][0] == \"r\" for q in range(len(constraints))):\n",
    "            print(\"there is no solution because some r_k are not zero\")\n",
    "            return None, None, None, None\n",
    "\n",
    "\n",
    "        if flag:\n",
    "            table, name_to_value, row_to_name, col_to_name = trim_table(table, name_to_value, row_to_name, col_to_name)\n",
    "\n",
    "            # print(\"all cool\")\n",
    "            while can_be_improved(table):\n",
    "                if simplex_step_single_phase(table, row_to_name, col_to_name, name_to_value) == None:\n",
    "                    print(\"there is no solution\")\n",
    "                    return None, None, None, None\n",
    "\n",
    "    return table, row_to_name, col_to_name, name_to_value"
   ]
  },
  {
   "cell_type": "code",
   "execution_count": 15,
   "id": "11c5c601-f100-49f4-aa35-125806cad515",
   "metadata": {},
   "outputs": [],
   "source": [
    "def optimize(constraints, b):\n",
    "    table, row_to_name, col_to_name, name_to_value = simplex_method(constraints, b)\n",
    "    x = []\n",
    "    if table is None:\n",
    "        return None\n",
    "    for i in range(len(b)):\n",
    "        x.append(name_to_value[\"x\" + str(i)])\n",
    "    return x"
   ]
  },
  {
   "cell_type": "markdown",
   "id": "1a6ad6bd",
   "metadata": {},
   "source": [
    "### Example 1"
   ]
  },
  {
   "cell_type": "code",
   "execution_count": 16,
   "id": "9719a1cf-b2e8-44ee-a8da-54b017e84f2e",
   "metadata": {},
   "outputs": [
    {
     "name": "stdout",
     "output_type": "stream",
     "text": [
      "[[ 1.  0.  0.  1.  1.  3.]\n",
      " [ 0.  1.  0.  1.  2.  5.]\n",
      " [ 0.  0.  1.  4.  2. 10.]\n",
      " [ 0.  0.  0.  2.  3.  0.]]\n"
     ]
    }
   ],
   "source": [
    "constraints = [[1, 1, 3, \"<=\"], \n",
    "               [1, 2, 5, \"<=\"],\n",
    "               [4, 2, 10, \"<=\"]]\n",
    "b = -np.array([2, 3])\n",
    "table, name_to_value, row_to_name, col_to_name = get_table_single_phase(constraints, b)\n",
    "\n",
    "print(table)"
   ]
  },
  {
   "cell_type": "code",
   "execution_count": 17,
   "id": "23ffe9b4-831c-4d61-97fd-1db2fd803970",
   "metadata": {},
   "outputs": [],
   "source": [
    "table, row_to_name, col_to_name, name_to_value = simplex_method(constraints, b)"
   ]
  },
  {
   "cell_type": "code",
   "execution_count": 18,
   "id": "ac894727-8926-4bc7-b366-c6e4aeec6a13",
   "metadata": {
    "scrolled": true
   },
   "outputs": [
    {
     "data": {
      "text/plain": [
       "array([[-1.,  1.,  0.,  0.,  1.,  2.],\n",
       "       [-6.,  2.,  1.,  0.,  0.,  2.],\n",
       "       [ 2., -1.,  0.,  1.,  0.,  1.],\n",
       "       [-1., -1.,  0.,  0.,  0., -8.]])"
      ]
     },
     "execution_count": 18,
     "metadata": {},
     "output_type": "execute_result"
    }
   ],
   "source": [
    "table"
   ]
  },
  {
   "cell_type": "code",
   "execution_count": 19,
   "id": "44d166e9-cb66-4194-b084-0a2476879748",
   "metadata": {},
   "outputs": [
    {
     "name": "stdout",
     "output_type": "stream",
     "text": [
      "[1.0, 2.0]\n"
     ]
    }
   ],
   "source": [
    "print(optimize(constraints, b))"
   ]
  },
  {
   "cell_type": "code",
   "execution_count": 20,
   "id": "210a291c-f324-4622-b215-054e3276760c",
   "metadata": {},
   "outputs": [
    {
     "data": {
      "text/plain": [
       "0.5"
      ]
     },
     "execution_count": 20,
     "metadata": {},
     "output_type": "execute_result"
    }
   ],
   "source": [
    "int(3) - float(2.5)"
   ]
  },
  {
   "cell_type": "markdown",
   "id": "57278c20-4514-48b6-bd53-400e659c9a74",
   "metadata": {},
   "source": [
    "### Example 2"
   ]
  },
  {
   "cell_type": "code",
   "execution_count": 21,
   "id": "6fd06b7c-84ea-4d76-be61-e62288b1281d",
   "metadata": {},
   "outputs": [
    {
     "data": {
      "text/plain": [
       "array([[1., 0., 1., 0., 1.],\n",
       "       [0., 1., 0., 1., 1.],\n",
       "       [0., 0., 1., 1., 0.]])"
      ]
     },
     "execution_count": 21,
     "metadata": {},
     "output_type": "execute_result"
    }
   ],
   "source": [
    "b = -np.array([1, 1])\n",
    "constraints = [[1, 0, 1, \"<=\"], [0, 1, 1, \"<=\"]]\n",
    "\n",
    "table, name_to_value, row_to_name, col_to_name = get_table_single_phase(constraints, b)\n",
    "table"
   ]
  },
  {
   "cell_type": "code",
   "execution_count": 22,
   "id": "4a4e308e-10ed-483f-8759-798c866ea14d",
   "metadata": {},
   "outputs": [],
   "source": [
    "table, row_to_name, col_to_name, name_to_value = simplex_method(constraints, b)"
   ]
  },
  {
   "cell_type": "code",
   "execution_count": 23,
   "id": "f19347b4-4115-4ce8-a86b-f45ad954decc",
   "metadata": {},
   "outputs": [
    {
     "data": {
      "text/plain": [
       "array([[ 1.,  0.,  1.,  0.,  1.],\n",
       "       [ 0.,  1.,  0.,  1.,  1.],\n",
       "       [-1., -1.,  0.,  0., -2.]])"
      ]
     },
     "execution_count": 23,
     "metadata": {},
     "output_type": "execute_result"
    }
   ],
   "source": [
    "table"
   ]
  },
  {
   "cell_type": "code",
   "execution_count": 24,
   "id": "5d1b1f5f-2011-41a0-8528-cd73d5e96896",
   "metadata": {
    "scrolled": true
   },
   "outputs": [
    {
     "data": {
      "text/plain": [
       "{'l0': 0, 'l1': 0, 'x0': 1.0, 'x1': 1.0}"
      ]
     },
     "execution_count": 24,
     "metadata": {},
     "output_type": "execute_result"
    }
   ],
   "source": [
    "name_to_value"
   ]
  },
  {
   "cell_type": "markdown",
   "id": "0c90e814-50ef-4431-b361-abf7c5b9176d",
   "metadata": {},
   "source": [
    "### Example 3"
   ]
  },
  {
   "cell_type": "code",
   "execution_count": 25,
   "id": "5d99ee8f-6798-4b6b-bdfc-469bc220dfd9",
   "metadata": {
    "scrolled": true
   },
   "outputs": [],
   "source": [
    "constraints = [[1, 1, 1, \">=\"],\n",
    "              [2, -1, 1, \">=\"],\n",
    "              [0, 3, 2, \"<=\"]]\n",
    "b = np.array([6, 3])\n",
    "table, name_to_value, row_to_name, col_to_name = get_table_two_phase(constraints, b)"
   ]
  },
  {
   "cell_type": "code",
   "execution_count": 26,
   "id": "697c21c8-f35e-41a3-b8e9-ea75b2892173",
   "metadata": {},
   "outputs": [
    {
     "data": {
      "text/plain": [
       "array([[-1.,  0.,  0.,  1.,  0.,  0.,  1.,  1.,  1.],\n",
       "       [ 0., -1.,  0.,  0.,  1.,  0.,  2., -1.,  1.],\n",
       "       [ 0.,  0.,  1.,  0.,  0.,  1.,  0.,  3.,  2.],\n",
       "       [ 0.,  0.,  0.,  0.,  0.,  0., -6., -3.,  0.],\n",
       "       [-1., -1.,  1.,  0.,  0.,  0.,  3.,  3.,  4.]])"
      ]
     },
     "execution_count": 26,
     "metadata": {},
     "output_type": "execute_result"
    }
   ],
   "source": [
    "table"
   ]
  },
  {
   "cell_type": "code",
   "execution_count": 27,
   "id": "cfc9b318-7ea4-4f7c-8222-8804cebaa5e3",
   "metadata": {},
   "outputs": [],
   "source": [
    "table, row_to_name, col_to_name, name_to_value = simplex_method(constraints, b)"
   ]
  },
  {
   "cell_type": "code",
   "execution_count": 28,
   "id": "3765c502-b936-4b6e-8a32-0abc7fa3e5cd",
   "metadata": {},
   "outputs": [
    {
     "data": {
      "text/plain": [
       "array([[-0.66666667,  0.33333333,  0.        ,  0.        ,  1.        ,\n",
       "         0.33333333],\n",
       "       [-0.33333333, -0.33333333,  0.        ,  1.        ,  0.        ,\n",
       "         0.66666667],\n",
       "       [ 2.        , -1.        ,  1.        ,  0.        ,  0.        ,\n",
       "         1.        ],\n",
       "       [-4.        , -1.        ,  0.        ,  0.        ,  0.        ,\n",
       "         5.        ]])"
      ]
     },
     "execution_count": 28,
     "metadata": {},
     "output_type": "execute_result"
    }
   ],
   "source": [
    "table"
   ]
  },
  {
   "cell_type": "code",
   "execution_count": 29,
   "id": "38118a20-f62d-4227-99fe-854abcd9b0e9",
   "metadata": {},
   "outputs": [
    {
     "data": {
      "text/plain": [
       "{'l0': 0,\n",
       " 'l1': 0,\n",
       " 'l2': 1.0,\n",
       " 'x0': 0.6666666666666666,\n",
       " 'x1': 0.3333333333333333}"
      ]
     },
     "execution_count": 29,
     "metadata": {},
     "output_type": "execute_result"
    }
   ],
   "source": [
    "name_to_value"
   ]
  },
  {
   "cell_type": "markdown",
   "id": "e7e7f02a-6f45-4620-b56e-15b909870b7c",
   "metadata": {},
   "source": [
    "### Example 4"
   ]
  },
  {
   "cell_type": "code",
   "execution_count": 30,
   "id": "8a6c3f73-5df5-486c-ac34-8d11630a0e76",
   "metadata": {},
   "outputs": [],
   "source": [
    "b = -np.array([5000, 2500])\n",
    "constraints = [[4, 1.5, 24, \"<=\"],\n",
    "              [1200, 150, 6000, \"<=\"],\n",
    "              [20, 20, 200, \"<=\"],\n",
    "              [1, 0, 2, \">=\"]]"
   ]
  },
  {
   "cell_type": "code",
   "execution_count": 31,
   "id": "759948da-729d-4060-80da-c46feb6efe56",
   "metadata": {},
   "outputs": [
    {
     "data": {
      "text/plain": [
       "array([[-4.0e-01,  0.0e+00,  8.0e-02,  0.0e+00,  0.0e+00,  1.0e+00,\n",
       "         6.4e+00],\n",
       "       [ 4.0e-01,  0.0e+00, -3.0e-02,  1.0e+00,  0.0e+00,  0.0e+00,\n",
       "         1.6e+00],\n",
       "       [-4.2e+02,  1.0e+00,  2.4e+01,  0.0e+00,  0.0e+00,  0.0e+00,\n",
       "         7.2e+02],\n",
       "       [ 4.0e-01,  0.0e+00, -3.0e-02,  0.0e+00,  1.0e+00,  0.0e+00,\n",
       "         3.6e+00],\n",
       "       [-1.0e+03,  0.0e+00, -5.0e+01,  0.0e+00,  0.0e+00,  0.0e+00,\n",
       "        -3.4e+04]])"
      ]
     },
     "execution_count": 31,
     "metadata": {},
     "output_type": "execute_result"
    }
   ],
   "source": [
    "table, row_to_name, col_to_name, name_to_value = simplex_method(constraints, b)\n",
    "table"
   ]
  },
  {
   "cell_type": "code",
   "execution_count": 32,
   "id": "cd2c02d8-fa74-4743-9169-2811d3608cfb",
   "metadata": {},
   "outputs": [
    {
     "data": {
      "text/plain": [
       "{'l0': 0, 'l1': 719.9999999999999, 'l2': 0, 'l3': 1.6, 'x0': 3.6, 'x1': 6.4}"
      ]
     },
     "execution_count": 32,
     "metadata": {},
     "output_type": "execute_result"
    }
   ],
   "source": [
    "name_to_value"
   ]
  },
  {
   "cell_type": "markdown",
   "id": "a8186c4b-a5c8-457c-a149-b5524a27ac01",
   "metadata": {},
   "source": [
    "### Example 5"
   ]
  },
  {
   "cell_type": "code",
   "execution_count": 33,
   "id": "17cc0a1d-e95e-49fd-bd54-9e24ceb2c77c",
   "metadata": {},
   "outputs": [],
   "source": [
    "b = -np.array([2, 5])\n",
    "constraints = [[3, 2, 6, \">=\"],\n",
    "              [1, 2, 4, \"<=\"]]"
   ]
  },
  {
   "cell_type": "code",
   "execution_count": 34,
   "id": "9c9aadfa-cd03-4227-a2e4-188ea86b7033",
   "metadata": {},
   "outputs": [
    {
     "data": {
      "text/plain": [
       "array([[-0.5 , -0.5 ,  1.  ,  0.  ,  1.  ],\n",
       "       [ 0.25,  0.75,  0.  ,  1.  ,  1.5 ],\n",
       "       [-0.25, -2.75,  0.  ,  0.  , -9.5 ]])"
      ]
     },
     "execution_count": 34,
     "metadata": {},
     "output_type": "execute_result"
    }
   ],
   "source": [
    "table, row_to_name, col_to_name, name_to_value = simplex_method(constraints, b)\n",
    "table"
   ]
  },
  {
   "cell_type": "code",
   "execution_count": 35,
   "id": "10f07ce2-13ea-4843-8424-332c68127519",
   "metadata": {},
   "outputs": [
    {
     "data": {
      "text/plain": [
       "{'l0': 0, 'l1': 0, 'x0': 1.0000000000000002, 'x1': 1.4999999999999998}"
      ]
     },
     "execution_count": 35,
     "metadata": {},
     "output_type": "execute_result"
    }
   ],
   "source": [
    "name_to_value"
   ]
  },
  {
   "cell_type": "markdown",
   "id": "74f228ec-12ae-4f3a-9d9c-28ff37b37dbb",
   "metadata": {},
   "source": [
    "### Example 6"
   ]
  },
  {
   "cell_type": "code",
   "execution_count": 36,
   "id": "688dc589-d852-4fe8-b705-f84d5f694ece",
   "metadata": {},
   "outputs": [],
   "source": [
    "b = -np.array([3, 4])\n",
    "constraints = [[1, 0, 6, \"=\"],\n",
    "              [0, 1, 6, \"<=\"]]"
   ]
  },
  {
   "cell_type": "code",
   "execution_count": 37,
   "id": "5519bc04-1240-4bd8-a06f-871824de86d4",
   "metadata": {},
   "outputs": [
    {
     "data": {
      "text/plain": [
       "array([[  1.,   0.,   1.,   0.,   6.],\n",
       "       [  0.,   1.,   0.,   1.,   6.],\n",
       "       [ -3.,  -4.,   0.,   0., -42.]])"
      ]
     },
     "execution_count": 37,
     "metadata": {},
     "output_type": "execute_result"
    }
   ],
   "source": [
    "table, row_to_name, col_to_name, name_to_value = simplex_method(constraints, b)\n",
    "table"
   ]
  },
  {
   "cell_type": "code",
   "execution_count": 38,
   "id": "d087da6a-3fc8-4ab2-bdf3-501b3cf10349",
   "metadata": {
    "scrolled": true
   },
   "outputs": [
    {
     "data": {
      "text/plain": [
       "{'l0': 0, 'l1': 0, 'x0': 6.0, 'x1': 6.0}"
      ]
     },
     "execution_count": 38,
     "metadata": {},
     "output_type": "execute_result"
    }
   ],
   "source": [
    "name_to_value"
   ]
  },
  {
   "cell_type": "markdown",
   "id": "3586ce1f-0259-4529-a4a4-5fbe05d8f37e",
   "metadata": {},
   "source": [
    "## Mixed-integer linear programming"
   ]
  },
  {
   "cell_type": "code",
   "execution_count": 39,
   "id": "f588f80e-8ef0-41ae-be17-0801a065905e",
   "metadata": {},
   "outputs": [],
   "source": [
    "def func(b, x):\n",
    "    if x is None:\n",
    "        return math.inf\n",
    "    s = 0\n",
    "    for i in range(len(b)):\n",
    "        s += b[i] * x[i]\n",
    "    return s"
   ]
  },
  {
   "cell_type": "code",
   "execution_count": 40,
   "id": "5a859034-908c-45d7-aa41-7fc4fdad4e30",
   "metadata": {},
   "outputs": [],
   "source": [
    "def milp(integer_vars, constraints, b):\n",
    "    \"\"\"Mixed-integer linear programming problem solution using Branch and Bound and Simplex methods\"\"\"\n",
    "    \n",
    "    x = optimize(constraints, b)\n",
    "    non_integer_vars = [] # list to store indices of non-integer x_k\n",
    "    \n",
    "    if x is None: # if simplex method didn't find solution then there is no mixed-integer solution\n",
    "        return None\n",
    "\n",
    "    for i in integer_vars:\n",
    "        if (abs(x[i] - round(x[i])) > 1e-6): # check if x_i is integer\n",
    "            non_integer_vars.append(i) \n",
    "            \n",
    "    if len(non_integer_vars) == 0: # self-explanatory \n",
    "        return x\n",
    "        \n",
    "    x1 = int(x[non_integer_vars[0]]) # compute floor of non-integer x\n",
    "\n",
    "    # create lists for the purpose of branching the feasible region\n",
    "    left_constraint = [0] * (len(constraints[0]) - 1)\n",
    "    right_constraint = [0] * (len(constraints[0]) - 1)\n",
    "    \n",
    "    left_constraint[non_integer_vars[0]] = 1\n",
    "    right_constraint[non_integer_vars[0]] = 1\n",
    "    left_constraint[-1] = x1\n",
    "    right_constraint[-1] = x1 + 1\n",
    "    left_constraint.append(\"<=\")\n",
    "    right_constraint.append(\">=\")\n",
    "    \n",
    "    constraints.append(left_constraint)\n",
    "    opt1 = milp(integer_vars, constraints, b)\n",
    "    constraints.pop(-1)\n",
    "    \n",
    "    constraints.append(right_constraint)\n",
    "    opt2 = milp(integer_vars, constraints, b)\n",
    "    constraints.pop(-1)\n",
    "    \n",
    "    if opt1 is None and opt2 is None:\n",
    "        return None\n",
    "    if (func(b, opt1) < func(b, opt2)):\n",
    "        return opt1\n",
    "        \n",
    "    return opt2"
   ]
  },
  {
   "cell_type": "markdown",
   "id": "9c13333f-fd57-44cf-be99-3c88c281a4ef",
   "metadata": {},
   "source": [
    "### Example 1"
   ]
  },
  {
   "cell_type": "code",
   "execution_count": 41,
   "id": "5c1d591b-f43e-46e2-8d13-bd2d8d88971a",
   "metadata": {},
   "outputs": [],
   "source": [
    "b = -np.array([0, 1])\n",
    "constraints = [[-1, 1, 1, \"<=\"],\n",
    "              [3, 2, 12, \"<=\"],\n",
    "              [2, 3, 12, \"<=\"]]\n",
    "integer_vars = [0, 1]"
   ]
  },
  {
   "cell_type": "code",
   "execution_count": 42,
   "id": "14555692-6e44-4506-b583-aa52174741e0",
   "metadata": {
    "scrolled": true
   },
   "outputs": [
    {
     "name": "stdout",
     "output_type": "stream",
     "text": [
      "there is no solution because some r_k are not zero\n",
      "[2.0, 2.0]\n"
     ]
    }
   ],
   "source": [
    "print(milp(integer_vars, constraints, b))"
   ]
  },
  {
   "cell_type": "markdown",
   "id": "df39727f-37d4-4281-b83f-60625056ac1e",
   "metadata": {},
   "source": [
    "### Parser of .mps files"
   ]
  },
  {
   "cell_type": "code",
   "execution_count": 43,
   "id": "0fc80be0",
   "metadata": {},
   "outputs": [],
   "source": [
    "from mip import Model\n",
    "from scipy.sparse import csr_matrix"
   ]
  },
  {
   "cell_type": "code",
   "execution_count": 44,
   "id": "790bf653-dfe6-4dfc-a09a-a22f1ce7cdfd",
   "metadata": {},
   "outputs": [],
   "source": [
    "def read_mps(file: str):\n",
    "    \"\"\"\n",
    "    Reads a .mps and saves all the data of the MILP:\n",
    "\n",
    "    min c^T * x\n",
    "\n",
    "    s.t. b_l <= A*x <= b_u\n",
    "          lb <=   x <= ub\n",
    "                x_i integer if integrality[i] = 1\n",
    "    \"\"\"\n",
    "    mdl = Model(solver_name=\"CBC\")\n",
    "    mdl.read(file)\n",
    "\n",
    "    # model parameters\n",
    "    num_vars = len(mdl.vars)\n",
    "    num_cons = len(mdl.constrs)\n",
    "\n",
    "    # variable types and bounds\n",
    "    lb = np.zeros(num_vars)\n",
    "    ub = np.inf * np.ones(num_vars)\n",
    "    integrality = np.zeros(num_vars)\n",
    "    for i, var in enumerate(mdl.vars):\n",
    "        lb[i] = var.lb\n",
    "        ub[i] = var.ub\n",
    "        if var.var_type != \"C\":\n",
    "            integrality[i] = 1\n",
    "\n",
    "    # objective\n",
    "    c = np.zeros(num_vars)\n",
    "    for i, var in enumerate(mdl.vars):\n",
    "        if var in mdl.objective.expr:\n",
    "            c[i] = mdl.objective.expr[var]\n",
    "    if mdl.sense != \"MIN\":\n",
    "        c *= -1.0\n",
    "\n",
    "    # constraint coefficient matrix\n",
    "    b_l = -np.inf * np.ones((num_cons))\n",
    "    b_u = np.inf * np.ones((num_cons))\n",
    "    row_ind = []\n",
    "    col_ind = []\n",
    "    data = []\n",
    "    for i, con in enumerate(mdl.constrs):\n",
    "        if con.expr.sense == \"=\":\n",
    "            b_l[i] = con.rhs\n",
    "            b_u[i] = con.rhs\n",
    "        elif con.expr.sense == \"<\":\n",
    "            b_u[i] = con.rhs\n",
    "        elif con.expr.sense == \">\":\n",
    "            b_l[i] = con.rhs\n",
    "        for j, var in enumerate(mdl.vars):\n",
    "            if var in (expr := con.expr.expr):\n",
    "                coeff = expr[var]\n",
    "                row_ind.append(i)\n",
    "                col_ind.append(j)\n",
    "                data.append(coeff)\n",
    "    A = csr_matrix((data, (row_ind, col_ind)), shape=(num_cons, num_vars))\n",
    "    return c, b_l, A, b_u, lb, ub, integrality,\n",
    "\n",
    "\n",
    "# return constrainst, b, int_var\n",
    "def parse(path):\n",
    "    c, b_l, A, b_u, lb, ub, integrality = read_mps(path)\n",
    "    constraints1 = A.toarray().tolist()\n",
    "    constraints2 = A.toarray().tolist()\n",
    "    print(b_l)\n",
    "    print(b_u)\n",
    "\n",
    "\n",
    "    constraints = []\n",
    "    n = len(constraints1)\n",
    "    m = len(constraints1[0])\n",
    "    for i in range(n):\n",
    "        constraints1[i].append(0)\n",
    "        constraints2[i].append(0)\n",
    "        constraints1[i][-1] = b_l[i]\n",
    "        constraints2[i][-1] = b_u[i]\n",
    "        constraints1[i].append(\">=\")\n",
    "        constraints2[i].append(\"<=\")\n",
    "        if constraints1[i][-2] > -1e+300:\n",
    "            constraints.append(constraints1[i])\n",
    "        if constraints2[i][-2] < 1e+300:\n",
    "            constraints.append(constraints2[i])\n",
    "    for i in range(m):\n",
    "        constraint1 = [0] * (m + 1)\n",
    "        constraint2 = [0] * (m + 1)\n",
    "        constraint1[i] = 1\n",
    "        constraint2[i] = 1\n",
    "        constraint1[-1] = lb[i]\n",
    "        constraint2[-1] = ub[i]\n",
    "        constraint1.append(\">=\")\n",
    "        constraint2.append(\"<=\")\n",
    "        if constraint1[-2] > -1e+300:\n",
    "            constraints.append(constraint1)\n",
    "        if constraint2[-2] < 1e+300:\n",
    "            constraints.append(constraint2)\n",
    "    return constraints, c, integrality"
   ]
  },
  {
   "cell_type": "code",
   "execution_count": 45,
   "id": "33240dcc",
   "metadata": {},
   "outputs": [
    {
     "name": "stderr",
     "output_type": "stream",
     "text": [
      "An error occurred while loading the CBC library:\t cannot load library '/Users/skyrex/anaconda3/envs/NN/lib/python3.9/site-packages/mip/libraries/cbc-c-darwin-x86-64.dylib': dlopen(/Users/skyrex/anaconda3/envs/NN/lib/python3.9/site-packages/mip/libraries/cbc-c-darwin-x86-64.dylib, 0x0002): tried: '/Users/skyrex/anaconda3/envs/NN/lib/python3.9/site-packages/mip/libraries/cbc-c-darwin-x86-64.dylib' (mach-o file, but is an incompatible architecture (have 'x86_64', need 'arm64')), '/System/Volumes/Preboot/Cryptexes/OS/Users/skyrex/anaconda3/envs/NN/lib/python3.9/site-packages/mip/libraries/cbc-c-darwin-x86-64.dylib' (no such file), '/Users/skyrex/anaconda3/envs/NN/lib/python3.9/site-packages/mip/libraries/cbc-c-darwin-x86-64.dylib' (mach-o file, but is an incompatible architecture (have 'x86_64', need 'arm64')).  Additionally, ctypes.util.find_library() did not manage to locate a library called '/Users/skyrex/anaconda3/envs/NN/lib/python3.9/site-packages/mip/libraries/cbc-c-darwin-x86-64.dylib'\n",
      "\n"
     ]
    },
    {
     "ename": "NameError",
     "evalue": "name 'cbclib' is not defined",
     "output_type": "error",
     "traceback": [
      "\u001b[0;31m---------------------------------------------------------------------------\u001b[0m",
      "\u001b[0;31mNameError\u001b[0m                                 Traceback (most recent call last)",
      "\u001b[1;32m/Users/skyrex/Desktop/my/учеба/прога/game theory course spbu/game-theory-course/game theory finale.ipynb Cell 55\u001b[0m line \u001b[0;36m2\n\u001b[1;32m      <a href='vscode-notebook-cell:/Users/skyrex/Desktop/my/%D1%83%D1%87%D0%B5%D0%B1%D0%B0/%D0%BF%D1%80%D0%BE%D0%B3%D0%B0/game%20theory%20course%20spbu/game-theory-course/game%20theory%20finale.ipynb#Y105sZmlsZQ%3D%3D?line=0'>1</a>\u001b[0m path \u001b[39m=\u001b[39m \u001b[39m'\u001b[39m\u001b[39m/Users/skyrex/Downloads/ej.mps\u001b[39m\u001b[39m'\u001b[39m\n\u001b[0;32m----> <a href='vscode-notebook-cell:/Users/skyrex/Desktop/my/%D1%83%D1%87%D0%B5%D0%B1%D0%B0/%D0%BF%D1%80%D0%BE%D0%B3%D0%B0/game%20theory%20course%20spbu/game-theory-course/game%20theory%20finale.ipynb#Y105sZmlsZQ%3D%3D?line=1'>2</a>\u001b[0m A, c, integrality \u001b[39m=\u001b[39m parse(path)\n\u001b[1;32m      <a href='vscode-notebook-cell:/Users/skyrex/Desktop/my/%D1%83%D1%87%D0%B5%D0%B1%D0%B0/%D0%BF%D1%80%D0%BE%D0%B3%D0%B0/game%20theory%20course%20spbu/game-theory-course/game%20theory%20finale.ipynb#Y105sZmlsZQ%3D%3D?line=2'>3</a>\u001b[0m \u001b[39mfor\u001b[39;00m a \u001b[39min\u001b[39;00m A:\n\u001b[1;32m      <a href='vscode-notebook-cell:/Users/skyrex/Desktop/my/%D1%83%D1%87%D0%B5%D0%B1%D0%B0/%D0%BF%D1%80%D0%BE%D0%B3%D0%B0/game%20theory%20course%20spbu/game-theory-course/game%20theory%20finale.ipynb#Y105sZmlsZQ%3D%3D?line=3'>4</a>\u001b[0m     \u001b[39mprint\u001b[39m(a)\n",
      "\u001b[1;32m/Users/skyrex/Desktop/my/учеба/прога/game theory course spbu/game-theory-course/game theory finale.ipynb Cell 55\u001b[0m line \u001b[0;36m6\n\u001b[1;32m     <a href='vscode-notebook-cell:/Users/skyrex/Desktop/my/%D1%83%D1%87%D0%B5%D0%B1%D0%B0/%D0%BF%D1%80%D0%BE%D0%B3%D0%B0/game%20theory%20course%20spbu/game-theory-course/game%20theory%20finale.ipynb#Y105sZmlsZQ%3D%3D?line=60'>61</a>\u001b[0m \u001b[39mdef\u001b[39;00m \u001b[39mparse\u001b[39m(path):\n\u001b[0;32m---> <a href='vscode-notebook-cell:/Users/skyrex/Desktop/my/%D1%83%D1%87%D0%B5%D0%B1%D0%B0/%D0%BF%D1%80%D0%BE%D0%B3%D0%B0/game%20theory%20course%20spbu/game-theory-course/game%20theory%20finale.ipynb#Y105sZmlsZQ%3D%3D?line=61'>62</a>\u001b[0m     c, b_l, A, b_u, lb, ub, integrality \u001b[39m=\u001b[39m read_mps(path)\n\u001b[1;32m     <a href='vscode-notebook-cell:/Users/skyrex/Desktop/my/%D1%83%D1%87%D0%B5%D0%B1%D0%B0/%D0%BF%D1%80%D0%BE%D0%B3%D0%B0/game%20theory%20course%20spbu/game-theory-course/game%20theory%20finale.ipynb#Y105sZmlsZQ%3D%3D?line=62'>63</a>\u001b[0m     constraints1 \u001b[39m=\u001b[39m A\u001b[39m.\u001b[39mtoarray()\u001b[39m.\u001b[39mtolist()\n\u001b[1;32m     <a href='vscode-notebook-cell:/Users/skyrex/Desktop/my/%D1%83%D1%87%D0%B5%D0%B1%D0%B0/%D0%BF%D1%80%D0%BE%D0%B3%D0%B0/game%20theory%20course%20spbu/game-theory-course/game%20theory%20finale.ipynb#Y105sZmlsZQ%3D%3D?line=63'>64</a>\u001b[0m     constraints2 \u001b[39m=\u001b[39m A\u001b[39m.\u001b[39mtoarray()\u001b[39m.\u001b[39mtolist()\n",
      "\u001b[1;32m/Users/skyrex/Desktop/my/учеба/прога/game theory course spbu/game-theory-course/game theory finale.ipynb Cell 55\u001b[0m line \u001b[0;36m1\n\u001b[1;32m      <a href='vscode-notebook-cell:/Users/skyrex/Desktop/my/%D1%83%D1%87%D0%B5%D0%B1%D0%B0/%D0%BF%D1%80%D0%BE%D0%B3%D0%B0/game%20theory%20course%20spbu/game-theory-course/game%20theory%20finale.ipynb#Y105sZmlsZQ%3D%3D?line=0'>1</a>\u001b[0m \u001b[39mdef\u001b[39;00m \u001b[39mread_mps\u001b[39m(file: \u001b[39mstr\u001b[39m):\n\u001b[1;32m      <a href='vscode-notebook-cell:/Users/skyrex/Desktop/my/%D1%83%D1%87%D0%B5%D0%B1%D0%B0/%D0%BF%D1%80%D0%BE%D0%B3%D0%B0/game%20theory%20course%20spbu/game-theory-course/game%20theory%20finale.ipynb#Y105sZmlsZQ%3D%3D?line=1'>2</a>\u001b[0m \u001b[39m    \u001b[39m\u001b[39m\"\"\"\u001b[39;00m\n\u001b[1;32m      <a href='vscode-notebook-cell:/Users/skyrex/Desktop/my/%D1%83%D1%87%D0%B5%D0%B1%D0%B0/%D0%BF%D1%80%D0%BE%D0%B3%D0%B0/game%20theory%20course%20spbu/game-theory-course/game%20theory%20finale.ipynb#Y105sZmlsZQ%3D%3D?line=2'>3</a>\u001b[0m \u001b[39m    Reads a .mps and saves all the data of the MILP:\u001b[39;00m\n\u001b[1;32m      <a href='vscode-notebook-cell:/Users/skyrex/Desktop/my/%D1%83%D1%87%D0%B5%D0%B1%D0%B0/%D0%BF%D1%80%D0%BE%D0%B3%D0%B0/game%20theory%20course%20spbu/game-theory-course/game%20theory%20finale.ipynb#Y105sZmlsZQ%3D%3D?line=3'>4</a>\u001b[0m \n\u001b[0;32m   (...)\u001b[0m\n\u001b[1;32m      <a href='vscode-notebook-cell:/Users/skyrex/Desktop/my/%D1%83%D1%87%D0%B5%D0%B1%D0%B0/%D0%BF%D1%80%D0%BE%D0%B3%D0%B0/game%20theory%20course%20spbu/game-theory-course/game%20theory%20finale.ipynb#Y105sZmlsZQ%3D%3D?line=8'>9</a>\u001b[0m \u001b[39m                x_i integer if integrality[i] = 1\u001b[39;00m\n\u001b[1;32m     <a href='vscode-notebook-cell:/Users/skyrex/Desktop/my/%D1%83%D1%87%D0%B5%D0%B1%D0%B0/%D0%BF%D1%80%D0%BE%D0%B3%D0%B0/game%20theory%20course%20spbu/game-theory-course/game%20theory%20finale.ipynb#Y105sZmlsZQ%3D%3D?line=9'>10</a>\u001b[0m \u001b[39m    \"\"\"\u001b[39;00m\n\u001b[0;32m---> <a href='vscode-notebook-cell:/Users/skyrex/Desktop/my/%D1%83%D1%87%D0%B5%D0%B1%D0%B0/%D0%BF%D1%80%D0%BE%D0%B3%D0%B0/game%20theory%20course%20spbu/game-theory-course/game%20theory%20finale.ipynb#Y105sZmlsZQ%3D%3D?line=10'>11</a>\u001b[0m     mdl \u001b[39m=\u001b[39m Model(solver_name\u001b[39m=\u001b[39;49m\u001b[39m\"\u001b[39;49m\u001b[39mCBC\u001b[39;49m\u001b[39m\"\u001b[39;49m)\n\u001b[1;32m     <a href='vscode-notebook-cell:/Users/skyrex/Desktop/my/%D1%83%D1%87%D0%B5%D0%B1%D0%B0/%D0%BF%D1%80%D0%BE%D0%B3%D0%B0/game%20theory%20course%20spbu/game-theory-course/game%20theory%20finale.ipynb#Y105sZmlsZQ%3D%3D?line=11'>12</a>\u001b[0m     mdl\u001b[39m.\u001b[39mread(file)\n\u001b[1;32m     <a href='vscode-notebook-cell:/Users/skyrex/Desktop/my/%D1%83%D1%87%D0%B5%D0%B1%D0%B0/%D0%BF%D1%80%D0%BE%D0%B3%D0%B0/game%20theory%20course%20spbu/game-theory-course/game%20theory%20finale.ipynb#Y105sZmlsZQ%3D%3D?line=13'>14</a>\u001b[0m     \u001b[39m# model parameters\u001b[39;00m\n",
      "File \u001b[0;32m~/anaconda3/envs/NN/lib/python3.9/site-packages/mip/model.py:87\u001b[0m, in \u001b[0;36mModel.__init__\u001b[0;34m(self, name, sense, solver_name, solver)\u001b[0m\n\u001b[1;32m     85\u001b[0m     \u001b[39mself\u001b[39m\u001b[39m.\u001b[39msolver \u001b[39m=\u001b[39m mip\u001b[39m.\u001b[39mgurobi\u001b[39m.\u001b[39mSolverGurobi(\u001b[39mself\u001b[39m, name, sense)\n\u001b[1;32m     86\u001b[0m \u001b[39melif\u001b[39;00m \u001b[39mself\u001b[39m\u001b[39m.\u001b[39msolver_name\u001b[39m.\u001b[39mupper() \u001b[39m==\u001b[39m \u001b[39m\"\u001b[39m\u001b[39mCBC\u001b[39m\u001b[39m\"\u001b[39m:\n\u001b[0;32m---> 87\u001b[0m     \u001b[39mimport\u001b[39;00m \u001b[39mmip\u001b[39;00m\u001b[39m.\u001b[39;00m\u001b[39mcbc\u001b[39;00m\n\u001b[1;32m     89\u001b[0m     \u001b[39mself\u001b[39m\u001b[39m.\u001b[39msolver \u001b[39m=\u001b[39m mip\u001b[39m.\u001b[39mcbc\u001b[39m.\u001b[39mSolverCbc(\u001b[39mself\u001b[39m, name, sense)\n\u001b[1;32m     90\u001b[0m \u001b[39melse\u001b[39;00m:\n",
      "File \u001b[0;32m~/anaconda3/envs/NN/lib/python3.9/site-packages/mip/cbc.py:603\u001b[0m\n\u001b[1;32m    599\u001b[0m INT_PARAM_CLIQUE_MERGING \u001b[39m=\u001b[39m \u001b[39m18\u001b[39m\n\u001b[1;32m    600\u001b[0m INT_PARAM_MAX_NODES_NOT_IMPROV_FS \u001b[39m=\u001b[39m \u001b[39m19\u001b[39m\n\u001b[0;32m--> 603\u001b[0m Osi_getNumCols \u001b[39m=\u001b[39m cbclib\u001b[39m.\u001b[39mOsi_getNumCols\n\u001b[1;32m    604\u001b[0m Osi_getColSolution \u001b[39m=\u001b[39m cbclib\u001b[39m.\u001b[39mOsi_getColSolution\n\u001b[1;32m    605\u001b[0m Osi_getIntegerTolerance \u001b[39m=\u001b[39m cbclib\u001b[39m.\u001b[39mOsi_getIntegerTolerance\n",
      "\u001b[0;31mNameError\u001b[0m: name 'cbclib' is not defined"
     ]
    }
   ],
   "source": [
    "path = '/Users/skyrex/Downloads/ej.mps'\n",
    "A, c, integrality = parse(path)\n",
    "for a in A:\n",
    "    print(a)\n",
    "print(-c)\n",
    "\n",
    "print(optimize(A, -c))"
   ]
  },
  {
   "cell_type": "markdown",
   "id": "0da79a86",
   "metadata": {},
   "source": [
    "## Levi function optimization"
   ]
  },
  {
   "cell_type": "code",
   "execution_count": 46,
   "id": "e177b4fe",
   "metadata": {},
   "outputs": [],
   "source": [
    "def make_levi_func(n):\n",
    "    def first_comp(x):\n",
    "        return (np.sin(3 * np.pi * x)) ** 2\n",
    "    \n",
    "    def second_comp(x, y, k):\n",
    "        return ((x - 1) ** 2) * (1 + np.sin(k * np.pi * y) ** 2)\n",
    "    \n",
    "    def res_func(x: list):\n",
    "        assert len(x) == n\n",
    "        s = first_comp(x[0])\n",
    "        for k in range(n):\n",
    "            s += second_comp(x[k], x[-1], n - k + 1)\n",
    "        return s\n",
    "    \n",
    "    return res_func  "
   ]
  },
  {
   "cell_type": "code",
   "execution_count": 47,
   "id": "b697712a-6bc7-41fd-a9a9-41ee1d0e84f8",
   "metadata": {},
   "outputs": [],
   "source": [
    "def expected_value(x: np.array):\n",
    "    return sum(x) / len(x)\n",
    "\n",
    "def variance(x: np.array):\n",
    "    return expected_value(np.square((x - expected_value(x))))\n",
    "\n",
    "def sigma(x: np.array):\n",
    "    return np.sqrt(variance(x))"
   ]
  },
  {
   "cell_type": "code",
   "execution_count": 48,
   "id": "bf1e46e1-456c-47ae-ba28-5e396a775726",
   "metadata": {},
   "outputs": [],
   "source": [
    "def confidence_interval(x: np.array):\n",
    "    z = 1.96\n",
    "    s = sigma(x)\n",
    "    n = len(x)\n",
    "    avg = expected_value(x)\n",
    "\n",
    "    return (avg - z * s / np.sqrt(n), avg + z * s / np.sqrt(n))"
   ]
  },
  {
   "cell_type": "code",
   "execution_count": 54,
   "id": "3a075fab-10b5-4ff7-8410-d45309a713c0",
   "metadata": {},
   "outputs": [],
   "source": [
    "def main_n_dim(n, f):\n",
    "    seed = 0\n",
    "    rng = np.random.RandomState(0)\n",
    "\n",
    "    b = []\n",
    "    for i in range(n):\n",
    "        b.append([-10, 10])\n",
    "\n",
    "    bounds = np.array(b)\n",
    "    lower_bounds, upper_bounds = bounds[:, 0], bounds[:, 1]\n",
    "\n",
    "    mean = lower_bounds + (np.random.rand(n) * (upper_bounds - lower_bounds))\n",
    "#     print(\"mean\", mean)\n",
    "    sigma = 20 / 5  # 1/5 of the domain width\n",
    "    optimizer = CMA(mean=mean, sigma=sigma, bounds=bounds, seed=seed)\n",
    "\n",
    "    n_restarts = 0  # A small restart doesn't count in the n_restarts\n",
    "    small_n_eval, large_n_eval = 0, 0\n",
    "    popsize0 = optimizer.population_size\n",
    "    inc_popsize = 2\n",
    "\n",
    "    # Initial run is with \"normal\" population size; it is\n",
    "    # the large population before first doubling, but its\n",
    "    # budget accounting is the same as in case of small\n",
    "    # population.\n",
    "    poptype = \"small\"\n",
    "\n",
    "    function_value = []\n",
    "\n",
    "    while n_restarts <= 2:\n",
    "        solutions = []\n",
    "        for _ in range(optimizer.population_size):\n",
    "            x = optimizer.ask()\n",
    "            value = f(x)\n",
    "            solutions.append((x, value))\n",
    "            # print(\"{:10.5f}  {:6.2f}  {:6.2f}\".format(value, x[0], x[1]))\n",
    "        optimizer.tell(solutions)\n",
    "        function_value.append(min([v for arr, v in solutions]))\n",
    "\n",
    "        if len(function_value) > 2 and abs(function_value[-1] - function_value[-2]) < 1e-15:\n",
    "            return solutions, function_value\n",
    "\n",
    "        if optimizer.should_stop():\n",
    "            seed += 1\n",
    "            n_eval = optimizer.population_size * optimizer.generation\n",
    "            if poptype == \"small\":\n",
    "                small_n_eval += n_eval\n",
    "            else:  # poptype == \"large\"\n",
    "                large_n_eval += n_eval\n",
    "\n",
    "            if small_n_eval < large_n_eval:\n",
    "                poptype = \"small\"\n",
    "                popsize_multiplier = inc_popsize ** n_restarts\n",
    "                popsize = math.floor(\n",
    "                    popsize0 * popsize_multiplier ** (np.random.uniform() ** 2)\n",
    "                )\n",
    "            else:\n",
    "                poptype = \"large\"\n",
    "                n_restarts += 1\n",
    "                popsize = popsize0 * (inc_popsize ** n_restarts)\n",
    "\n",
    "            mean = lower_bounds + (np.random.rand(n) * (upper_bounds - lower_bounds))\n",
    "\n",
    "            optimizer = CMA(\n",
    "                mean=mean,\n",
    "                sigma=sigma,\n",
    "                bounds=bounds,\n",
    "                seed=seed,\n",
    "                population_size=popsize,\n",
    "            )\n",
    "            # print(\"Restart CMA-ES with popsize={} ({})\".format(popsize, poptype))\n",
    "\n",
    "\n",
    "    # for sol in solutions:\n",
    "    #     print(sol)\n",
    "\n",
    "    return solutions, function_value"
   ]
  },
  {
   "cell_type": "markdown",
   "id": "b1b3e362",
   "metadata": {},
   "source": [
    "### Confidence interval plotting"
   ]
  },
  {
   "cell_type": "code",
   "execution_count": 53,
   "id": "e8b841f3",
   "metadata": {},
   "outputs": [],
   "source": [
    "def test_optimizer(n, iter_num):\n",
    "    y_min = []\n",
    "    y_max = []\n",
    "    optimal = []\n",
    "    values = []\n",
    "\n",
    "    epochs = []\n",
    "    for k in range(iter_num):\n",
    "        solutions, function_value = main_n_dim(n, make_levi_func(n))\n",
    "\n",
    "        while len(epochs) < len(function_value):\n",
    "            epochs.append([])\n",
    "\n",
    "        for i in range(len(function_value)):\n",
    "            epochs[i].append(function_value[i])\n",
    "\n",
    "    mean = [expected_value(epochs[k]) for k in range(len(epochs))]\n",
    "\n",
    "    for k in range(len(epochs)):\n",
    "        left, right = confidence_interval(epochs[k])\n",
    "\n",
    "        y_min.append(left)\n",
    "        y_max.append(right)\n",
    "\n",
    "\n",
    "\n",
    "    return y_min, y_max, mean\n",
    "\n"
   ]
  },
  {
   "cell_type": "code",
   "execution_count": 55,
   "id": "54899c61-f356-4a20-9589-d98e3e4b1c31",
   "metadata": {},
   "outputs": [],
   "source": [
    "def plot_confidence_interval(n, iter_num):\n",
    "    Y_min, Y_max, optimal = test_optimizer(n, iter_num)\n",
    "\n",
    "    x = np.linspace(0, len(optimal), len(optimal))\n",
    "\n",
    "    plt.plot(optimal, label=\"optimal\")\n",
    "\n",
    "    plt.fill_between(x, Y_min, Y_max, color='r', alpha=.1, label=\"confidence interval\")\n",
    "\n",
    "    plt.yscale('linear')\n",
    "    plt.legend()\n"
   ]
  },
  {
   "cell_type": "code",
   "execution_count": 59,
   "id": "f31e3920-b05c-49aa-84e6-3321bb67e990",
   "metadata": {},
   "outputs": [
    {
     "data": {
      "image/png": "[encoded data removed]",
      "text/plain": [
       "<Figure size 640x480 with 1 Axes>"
      ]
     },
     "metadata": {},
     "output_type": "display_data"
    }
   ],
   "source": [
    "plot_confidence_interval(2, 50)"
   ]
  },
  {
   "cell_type": "code",
   "execution_count": 60,
   "id": "71ace1bb",
   "metadata": {},
   "outputs": [],
   "source": [
    "s = main_n_dim(10, make_levi_func(10))"
   ]
  },
  {
   "cell_type": "code",
   "execution_count": 61,
   "id": "e299d586",
   "metadata": {},
   "outputs": [
    {
     "data": {
      "text/plain": [
       "([(array([1.        , 0.99999999, 1.00000003, 1.00000003, 1.00000007,\n",
       "          0.99999999, 1.        , 0.99999998, 0.99999997, 1.00000001]),\n",
       "   8.770602166169245e-15),\n",
       "  (array([1.00000001, 1.00000001, 0.99999995, 0.99999994, 1.        ,\n",
       "          1.00000005, 1.00000001, 1.00000001, 1.        , 1.00000003]),\n",
       "   1.30849483177526e-14),\n",
       "  (array([1.        , 0.99999996, 1.00000004, 1.        , 1.        ,\n",
       "          1.00000002, 1.00000001, 0.99999996, 0.99999994, 1.00000006]),\n",
       "   1.3731624099606576e-14),\n",
       "  (array([1.        , 1.        , 1.00000004, 0.99999996, 1.00000004,\n",
       "          1.00000006, 1.00000002, 1.00000001, 0.99999995, 1.00000005]),\n",
       "   1.4269874844493206e-14),\n",
       "  (array([1.        , 1.00000003, 1.00000003, 1.        , 1.00000009,\n",
       "          1.00000001, 1.        , 1.        , 1.        , 1.00000006]),\n",
       "   1.4284719262249793e-14),\n",
       "  (array([1.        , 1.00000003, 0.99999997, 1.        , 1.00000004,\n",
       "          1.0000001 , 1.00000003, 1.00000002, 1.00000002, 1.00000005]),\n",
       "   1.6079409749101503e-14),\n",
       "  (array([1.        , 1.00000003, 1.00000002, 0.99999993, 1.        ,\n",
       "          1.00000006, 0.99999994, 0.99999996, 1.        , 1.00000004]),\n",
       "   1.680189958010448e-14),\n",
       "  (array([1.        , 1.00000001, 1.00000006, 0.99999997, 1.00000005,\n",
       "          1.        , 0.99999999, 0.99999999, 0.99999995, 1.00000008]),\n",
       "   1.724463696696202e-14),\n",
       "  (array([0.99999999, 1.00000001, 1.00000003, 0.99999997, 1.00000005,\n",
       "          0.99999999, 0.99999998, 0.99999995, 1.00000009, 0.99999996]),\n",
       "   2.0715397932945483e-14),\n",
       "  (array([1.        , 1.00000012, 1.00000006, 0.99999999, 1.00000002,\n",
       "          1.00000007, 0.99999999, 0.99999998, 1.        , 0.99999997]),\n",
       "   2.4429833328214353e-14)],\n",
       " [186.09190482769606,\n",
       "  160.4981391307456,\n",
       "  100.50259544398898,\n",
       "  103.35622791425402,\n",
       "  129.79924811259193,\n",
       "  126.37015500626211,\n",
       "  62.93510975044742,\n",
       "  121.36958346920491,\n",
       "  103.69450790824507,\n",
       "  62.05080608808552,\n",
       "  45.68836494623105,\n",
       "  52.01691550566184,\n",
       "  35.15684911630539,\n",
       "  39.164006215282846,\n",
       "  21.78214963922264,\n",
       "  27.07022858150048,\n",
       "  15.842595726238837,\n",
       "  13.594138339041388,\n",
       "  9.409024971667474,\n",
       "  5.639307564725229,\n",
       "  8.499682105608638,\n",
       "  9.04452723148001,\n",
       "  6.45493691848298,\n",
       "  4.222234445447239,\n",
       "  5.150306327869102,\n",
       "  2.5748826365832023,\n",
       "  2.929432704252952,\n",
       "  3.224560742526558,\n",
       "  1.7962254960102284,\n",
       "  2.004748486432022,\n",
       "  1.4702637674428307,\n",
       "  2.0684325820304257,\n",
       "  2.797909565433703,\n",
       "  1.9315720005160855,\n",
       "  1.594098585184304,\n",
       "  0.9261197348119515,\n",
       "  0.4792252293668569,\n",
       "  1.496052721976553,\n",
       "  0.7802626508998463,\n",
       "  0.8905454571244751,\n",
       "  0.6678863885398507,\n",
       "  0.2590911628518015,\n",
       "  0.660803766297716,\n",
       "  0.5254877656945603,\n",
       "  0.4905991273122771,\n",
       "  0.5761203028841996,\n",
       "  0.7049216795895391,\n",
       "  0.77203691823412,\n",
       "  0.6207286926306939,\n",
       "  0.30180646836306285,\n",
       "  0.4106180995272379,\n",
       "  0.5589513520620412,\n",
       "  0.4162038786866722,\n",
       "  0.08028098384185656,\n",
       "  0.11797810894416302,\n",
       "  0.2835788317694272,\n",
       "  0.27076569889051605,\n",
       "  0.41383936638489194,\n",
       "  0.14508053996486373,\n",
       "  0.251055922874166,\n",
       "  0.153709150987127,\n",
       "  0.07248280549933453,\n",
       "  0.10007525581843825,\n",
       "  0.1276888397293039,\n",
       "  0.17319878660958118,\n",
       "  0.08838851225959557,\n",
       "  0.052847495979002415,\n",
       "  0.07673372781006092,\n",
       "  0.09693073091151427,\n",
       "  0.029316324069057754,\n",
       "  0.03749269636843462,\n",
       "  0.05037767861815929,\n",
       "  0.04058075334182027,\n",
       "  0.02627593390283965,\n",
       "  0.01263712663453436,\n",
       "  0.017515102509792865,\n",
       "  0.02640100226136724,\n",
       "  0.00439770507540813,\n",
       "  0.009174849741369562,\n",
       "  0.005151433304059235,\n",
       "  0.0034686067828232662,\n",
       "  0.007249297478455364,\n",
       "  0.003158270232347758,\n",
       "  0.003855035103462805,\n",
       "  0.0033716136419659026,\n",
       "  0.0024518992405034344,\n",
       "  0.0010348117248973915,\n",
       "  0.0009368065625388011,\n",
       "  0.0013878462427651666,\n",
       "  0.001067919153415444,\n",
       "  0.0020408420626146047,\n",
       "  0.000785628043019645,\n",
       "  0.0016191084971751385,\n",
       "  0.002186464367678392,\n",
       "  0.0016498620253354431,\n",
       "  0.001159462701445973,\n",
       "  0.0009971924575010523,\n",
       "  0.0019264283632682267,\n",
       "  0.0023641551910302695,\n",
       "  0.0011491679361822723,\n",
       "  0.0015490796566717709,\n",
       "  0.0008662222599871198,\n",
       "  0.0006379575858019025,\n",
       "  0.0008255550581520772,\n",
       "  0.0004786195508116195,\n",
       "  0.0003243608461615914,\n",
       "  0.0006492688720018543,\n",
       "  0.00034915961096650485,\n",
       "  0.00022689790791825815,\n",
       "  0.00016245971257599826,\n",
       "  0.00022761388714193843,\n",
       "  0.00017157207714510627,\n",
       "  0.00017678154552648975,\n",
       "  0.0001708537422878925,\n",
       "  8.05482898692593e-05,\n",
       "  0.00015279398694769986,\n",
       "  0.00010249514650025128,\n",
       "  7.282318517804024e-05,\n",
       "  7.983857076804603e-05,\n",
       "  3.360306192065611e-05,\n",
       "  2.7295005478212375e-05,\n",
       "  3.285180835176965e-05,\n",
       "  2.5463099822728422e-05,\n",
       "  3.3783473930899e-05,\n",
       "  5.4569497943186696e-05,\n",
       "  3.7501237596282484e-05,\n",
       "  3.115955970107461e-05,\n",
       "  1.971122841486136e-05,\n",
       "  2.3589575518963494e-05,\n",
       "  1.2837145121698542e-05,\n",
       "  1.3638497327568778e-05,\n",
       "  1.5740262404335008e-05,\n",
       "  6.572953955608699e-06,\n",
       "  4.571622864598329e-06,\n",
       "  5.041592605546714e-06,\n",
       "  7.728893423508314e-06,\n",
       "  7.458428171951693e-06,\n",
       "  3.648104513992193e-06,\n",
       "  1.376777252678003e-06,\n",
       "  2.169005153754362e-06,\n",
       "  1.612136349447061e-06,\n",
       "  2.144660348590984e-06,\n",
       "  1.8339991246679024e-06,\n",
       "  2.144162040864114e-06,\n",
       "  4.68908179633793e-07,\n",
       "  1.1697701650807117e-06,\n",
       "  5.484650292228245e-07,\n",
       "  9.6386591482455e-07,\n",
       "  6.165290680034636e-07,\n",
       "  3.773231148487426e-07,\n",
       "  3.3448497920526686e-07,\n",
       "  3.760573439354552e-07,\n",
       "  3.8489503906734115e-07,\n",
       "  2.6906948880275325e-07,\n",
       "  1.2719412132189802e-07,\n",
       "  4.029695224116185e-08,\n",
       "  1.1060574337597868e-07,\n",
       "  9.55601253179315e-08,\n",
       "  6.714872868996242e-08,\n",
       "  5.696070474495461e-08,\n",
       "  1.1376799118329242e-07,\n",
       "  4.952590090039747e-08,\n",
       "  4.875112288527201e-08,\n",
       "  3.255890747409244e-08,\n",
       "  2.687468400405029e-08,\n",
       "  4.2367233983184834e-08,\n",
       "  2.8461138940344284e-08,\n",
       "  2.391149771711328e-08,\n",
       "  1.4827314525383273e-08,\n",
       "  1.9820682196577544e-08,\n",
       "  8.80314846825465e-09,\n",
       "  5.945810837320252e-09,\n",
       "  6.534654977403896e-09,\n",
       "  9.303505425100795e-09,\n",
       "  3.773625306307559e-09,\n",
       "  5.591031850661425e-09,\n",
       "  3.315614267079262e-09,\n",
       "  3.3535683444461637e-09,\n",
       "  5.625191570873317e-09,\n",
       "  3.3545250840275432e-09,\n",
       "  2.19217841695133e-09,\n",
       "  6.194883938874764e-10,\n",
       "  1.7083746245257672e-09,\n",
       "  1.289919063605204e-09,\n",
       "  1.645168540825505e-09,\n",
       "  1.2623291415847145e-09,\n",
       "  8.889390285876075e-10,\n",
       "  7.687337198481376e-10,\n",
       "  4.604992231209001e-10,\n",
       "  5.685990871966806e-10,\n",
       "  3.9381873166883763e-10,\n",
       "  4.955957459430693e-10,\n",
       "  3.3936493461857577e-10,\n",
       "  3.940718821589665e-10,\n",
       "  9.305053113114833e-11,\n",
       "  2.907737693361727e-10,\n",
       "  2.8727964317214564e-10,\n",
       "  1.773017268979235e-10,\n",
       "  1.1734164744330342e-10,\n",
       "  5.438319816435492e-11,\n",
       "  1.0126199491422226e-10,\n",
       "  1.5632588628877794e-10,\n",
       "  8.891431207477281e-11,\n",
       "  7.281339137335027e-11,\n",
       "  4.874526754518801e-11,\n",
       "  4.002303584210866e-11,\n",
       "  5.2288439457263774e-11,\n",
       "  2.5012748801851666e-11,\n",
       "  1.6703264051884463e-11,\n",
       "  1.7982176290339385e-11,\n",
       "  1.7230723078590232e-11,\n",
       "  2.939525774807134e-11,\n",
       "  1.684270104813964e-11,\n",
       "  6.384196219829745e-12,\n",
       "  1.0139043665476729e-11,\n",
       "  8.86202755347041e-12,\n",
       "  6.999203368790265e-12,\n",
       "  6.8110156974075095e-12,\n",
       "  6.589055849099026e-12,\n",
       "  9.312048453935644e-12,\n",
       "  7.083829974014892e-12,\n",
       "  5.093433036181734e-12,\n",
       "  2.433026465219404e-12,\n",
       "  2.033883901713443e-12,\n",
       "  2.7862574661762233e-12,\n",
       "  1.5902605317495406e-12,\n",
       "  1.8977855432982065e-12,\n",
       "  1.3761258272537646e-12,\n",
       "  6.933415872537785e-13,\n",
       "  1.3271608858975133e-12,\n",
       "  5.617206700773637e-13,\n",
       "  4.619290216307993e-13,\n",
       "  4.572107384497759e-13,\n",
       "  4.837555213678765e-13,\n",
       "  4.873013941566322e-13,\n",
       "  5.507685093196065e-13,\n",
       "  3.4816236340079166e-13,\n",
       "  2.585607793883734e-13,\n",
       "  1.361362477634848e-13,\n",
       "  1.6439442982407977e-13,\n",
       "  2.383400042874082e-13,\n",
       "  1.9670643953557712e-13,\n",
       "  2.046799423944621e-13,\n",
       "  1.3345670819026344e-13,\n",
       "  7.155765034096327e-14,\n",
       "  5.19060726784236e-14,\n",
       "  7.443667778570228e-14,\n",
       "  3.528705201341497e-14,\n",
       "  7.038528604481485e-14,\n",
       "  6.165341978599794e-14,\n",
       "  4.431183044380114e-14,\n",
       "  4.5544845854715915e-14,\n",
       "  3.0551038088114674e-14,\n",
       "  3.57802749722521e-14,\n",
       "  2.252687990918588e-14,\n",
       "  2.5649080680982335e-14,\n",
       "  1.8164936877452058e-14,\n",
       "  1.1624199731343553e-14,\n",
       "  1.291651564251172e-14,\n",
       "  9.237904028756443e-15,\n",
       "  8.770602166169245e-15])"
      ]
     },
     "execution_count": 61,
     "metadata": {},
     "output_type": "execute_result"
    }
   ],
   "source": [
    "s"
   ]
  }
 ],
 "metadata": {
  "kernelspec": {
   "display_name": "Python 3 (ipykernel)",
   "language": "python",
   "name": "python3"
  },
  "language_info": {
   "codemirror_mode": {
    "name": "ipython",
    "version": 3
   },
   "file_extension": ".py",
   "mimetype": "text/x-python",
   "name": "python",
   "nbconvert_exporter": "python",
   "pygments_lexer": "ipython3",
   "version": "3.9.18"
  }
 },
 "nbformat": 4,
 "nbformat_minor": 5
}
